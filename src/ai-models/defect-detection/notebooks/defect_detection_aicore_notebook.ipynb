{
 "cells": [
  {
   "cell_type": "markdown",
   "id": "02fc96bb",
   "metadata": {},
   "source": [
    "# Create AI API client in python"
   ]
  },
  {
   "cell_type": "code",
   "execution_count": 1,
   "id": "5bcc9116",
   "metadata": {},
   "outputs": [],
   "source": [
    "from ai_api_client_sdk.ai_api_v2_client import AIAPIV2Client\n",
    "import json"
   ]
  },
  {
   "cell_type": "code",
   "execution_count": 4,
   "id": "568ccecb",
   "metadata": {},
   "outputs": [],
   "source": [
    "root_path = \"/Users/I559573/Documents/D2V2.0_PREP/btp-ai-core-bootcamp/src/ai-models/defect-detection\""
   ]
  },
  {
   "cell_type": "code",
   "execution_count": 2,
   "id": "60ae9a7e",
   "metadata": {},
   "outputs": [],
   "source": [
    "# Your service key JSON file relative to this notebook\n",
    "aic_service_key_path = '/Users/I559573/AICore_Tutorial/files/aic_service_key.json'\n",
    "\n",
    "# Loads the service key file\n",
    "with open(aic_service_key_path) as ask:\n",
    "    aic_service_key = json.load(ask)\n",
    "\n",
    "# Creating an AI API client instance\n",
    "ai_api_client = AIAPIV2Client(\n",
    "    base_url = aic_service_key[\"serviceurls\"][\"AI_API_URL\"] + \"/v2\", # The present AI API version is 2\n",
    "    auth_url=  aic_service_key[\"url\"] + \"/oauth/token\",\n",
    "    client_id = aic_service_key['clientid'],\n",
    "    client_secret = aic_service_key['clientsecret']\n",
    ")"
   ]
  },
  {
   "cell_type": "markdown",
   "id": "3a866ea4",
   "metadata": {},
   "source": [
    "# Connect GitHub and Docker to SAP AI Core"
   ]
  },
  {
   "cell_type": "code",
   "execution_count": 20,
   "id": "168fbe9b",
   "metadata": {},
   "outputs": [],
   "source": [
    "git_setup_file_path = root_path + \"/files/git_setup.json\""
   ]
  },
  {
   "cell_type": "code",
   "execution_count": 21,
   "id": "cfedb720",
   "metadata": {},
   "outputs": [
    {
     "name": "stdout",
     "output_type": "stream",
     "text": [
      "{'message': 'Repository has been on-boarded.'}\n"
     ]
    }
   ],
   "source": [
    "# Loads your git_setup.json\n",
    "with open(git_setup_file_path) as gs:\n",
    "    setup_json = json.load(gs)\n",
    "\n",
    "# Connects your repo\n",
    "repo_json = setup_json[\"repo\"]\n",
    "response = ai_api_client.rest_client.post(\n",
    "    path=\"/admin/repositories\",\n",
    "    body={\n",
    "        \"name\": repo_json[\"name\"],\n",
    "        \"url\": repo_json[\"url\"],\n",
    "        \"username\": repo_json[\"username\"],\n",
    "        \"password\": repo_json[\"password\"]\n",
    "    }\n",
    ")\n",
    "print(response)"
   ]
  },
  {
   "cell_type": "code",
   "execution_count": 11,
   "id": "4a4328ab",
   "metadata": {},
   "outputs": [],
   "source": [
    "# Loads your git_setup.json\n",
    "with open(git_setup_file_path) as gs:\n",
    "    setup_json = json.load(gs)\n",
    "    \n",
    "# Registers the directory as app\n",
    "app_json = setup_json[\"app\"]\n",
    "response = ai_api_client.rest_client.post(\n",
    "    path=\"/admin/applications\",\n",
    "    body={\n",
    "        \"applicationName\": app_json[\"applicationName\"],\n",
    "        \"repositoryUrl\": app_json[\"repositoryUrl\"],\n",
    "        \"revision\": app_json[\"revision\"],\n",
    "        \"path\": app_json[\"path\"]\n",
    "    }\n",
    ")"
   ]
  },
  {
   "cell_type": "markdown",
   "id": "00686f78",
   "metadata": {},
   "source": [
    "ai_api_client.rest_client.delete(\n",
    "    path=\"/admin/repositories/aicore-test-calabria\"\n",
    ")"
   ]
  },
  {
   "cell_type": "markdown",
   "id": "398b271e",
   "metadata": {},
   "source": [
    "ai_api_client.rest_client.delete(\n",
    "    path=\"/admin/applications/aicore-test-app-calabria\"\n",
    ")"
   ]
  },
  {
   "cell_type": "code",
   "execution_count": 12,
   "id": "7d2b1ef9",
   "metadata": {},
   "outputs": [
    {
     "data": {
      "text/plain": [
       "{'count': 1,\n",
       " 'resources': [{'name': 'aicore-test-calabria',\n",
       "   'status': 'COMPLETED',\n",
       "   'url': 'https://github.com/calabria/aicore-test'}]}"
      ]
     },
     "execution_count": 12,
     "metadata": {},
     "output_type": "execute_result"
    }
   ],
   "source": [
    "ai_api_client.rest_client.get(\n",
    "    path=\"/admin/repositories\"\n",
    ")"
   ]
  },
  {
   "cell_type": "code",
   "execution_count": 13,
   "id": "6afbe290",
   "metadata": {},
   "outputs": [
    {
     "data": {
      "text/plain": [
       "{'count': 2,\n",
       " 'resources': [{'application_name': 'aicore-test-app-calabria',\n",
       "   'path': 'workflows',\n",
       "   'repository_url': 'https://github.com/calabria/aicore-test',\n",
       "   'revision': 'HEAD'},\n",
       "  {'application_name': 'defect-det-app-calabria',\n",
       "   'path': 'workflows_image',\n",
       "   'repository_url': 'https://github.com/calabria/aicore-test',\n",
       "   'revision': 'HEAD'}]}"
      ]
     },
     "execution_count": 13,
     "metadata": {},
     "output_type": "execute_result"
    }
   ],
   "source": [
    "ai_api_client.rest_client.get(\n",
    "    path=\"/admin/applications\"\n",
    ")"
   ]
  },
  {
   "cell_type": "code",
   "execution_count": 126,
   "id": "2cff9c1b",
   "metadata": {},
   "outputs": [
    {
     "data": {
      "text/plain": [
       "{'health_status': 'Healthy',\n",
       " 'message': 'successfully synced (all tasks run)',\n",
       " 'reconciled_at': '2022-02-21T17:52:30Z',\n",
       " 'source': {'path': 'workflows_image',\n",
       "  'repourl': 'https://github.com/calabria/aicore-test',\n",
       "  'revision': '39bce658944b58e5b3110107643c265623dc30ed'},\n",
       " 'sync_finished_at': '2022-02-21T17:49:28Z',\n",
       " 'sync_ressources_status': [{'kind': 'ServingTemplate',\n",
       "   'message': 'servingtemplate.ai.sap.com/image-clf-infer-tutorial unchanged',\n",
       "   'name': 'image-clf-infer-tutorial',\n",
       "   'status': 'Synced'},\n",
       "  {'kind': 'WorkflowTemplate',\n",
       "   'message': 'workflowtemplate.argoproj.io/image-clf-train-tutorial configured',\n",
       "   'name': 'image-clf-train-tutorial',\n",
       "   'status': 'Synced'}],\n",
       " 'sync_started_at': '2022-02-21T17:49:26Z',\n",
       " 'sync_status': 'Synced'}"
      ]
     },
     "execution_count": 126,
     "metadata": {},
     "output_type": "execute_result"
    }
   ],
   "source": [
    "app_name = \"defect-det-app-calabria\"\n",
    "\n",
    "ai_api_client.rest_client.get(\n",
    "    path=f\"/admin/applications/{app_name}/status\"\n",
    ")"
   ]
  },
  {
   "cell_type": "markdown",
   "id": "b139aa55",
   "metadata": {},
   "source": [
    "# Connect Docker to SAP AI Core"
   ]
  },
  {
   "cell_type": "code",
   "execution_count": 22,
   "id": "48a8cc78",
   "metadata": {},
   "outputs": [
    {
     "name": "stdout",
     "output_type": "stream",
     "text": [
      "{'message': 'Secret exists'}\n"
     ]
    }
   ],
   "source": [
    "docker_secret_file_path = root_path + '/files/docker_secret.json'\n",
    "#\n",
    "# NO CHANGES REQUIRED BELOW\n",
    "#\n",
    "# Loads the json file\n",
    "with open(docker_secret_file_path) as dsf:\n",
    "    docker_secret = json.load(dsf)\n",
    "\n",
    "response = ai_api_client.rest_client.post(\n",
    "    path=\"/admin/dockerRegistrySecrets\",\n",
    "    body={\n",
    "        \"name\": docker_secret[\"name\"],\n",
    "        \"data\": docker_secret[\"data\"]\n",
    "    }\n",
    ")\n",
    "print(response)"
   ]
  },
  {
   "cell_type": "code",
   "execution_count": 5,
   "id": "36524899",
   "metadata": {},
   "outputs": [
    {
     "data": {
      "text/plain": [
       "{'count': 1, 'resources': [{'name': 'docker-registry-secret'}]}"
      ]
     },
     "execution_count": 5,
     "metadata": {},
     "output_type": "execute_result"
    }
   ],
   "source": [
    "ai_api_client.rest_client.get(\n",
    "    path=f\"/admin/dockerRegistrySecrets\"\n",
    ")"
   ]
  },
  {
   "cell_type": "markdown",
   "id": "f407c2d2",
   "metadata": {},
   "source": [
    "Create and upload the docker images"
   ]
  },
  {
   "cell_type": "markdown",
   "id": "7d18a767",
   "metadata": {},
   "source": [
    "docker login docker.io -u yoshidj"
   ]
  },
  {
   "cell_type": "markdown",
   "id": "a99d3fae",
   "metadata": {},
   "source": [
    "docker build -t yoshidj/image-clf-train:0.0.1 ."
   ]
  },
  {
   "cell_type": "markdown",
   "id": "c8e8c9fb",
   "metadata": {},
   "source": [
    "docker push docker.io/yoshidj/image-clf-train:0.0.1"
   ]
  },
  {
   "cell_type": "markdown",
   "id": "34d0e57c",
   "metadata": {},
   "source": [
    "# Create Resource Group and Connect AWS S3 to SAP AI Core"
   ]
  },
  {
   "cell_type": "code",
   "execution_count": 26,
   "id": "7ede3cff",
   "metadata": {},
   "outputs": [
    {
     "data": {
      "text/plain": [
       "{'resource_group_id': 'defect-det',\n",
       " 'tenant_id': 'df5fe658-4415-4a70-9aa9-6916c4c40810',\n",
       " 'zone_id': ''}"
      ]
     },
     "execution_count": 26,
     "metadata": {},
     "output_type": "execute_result"
    }
   ],
   "source": [
    "ai_api_client.rest_client.post(\n",
    "    path=\"/admin/resourceGroups\",\n",
    "    body={\n",
    "        \"resourceGroupId\": \"defect-det\" # Name of your resource group\n",
    "    }\n",
    ")"
   ]
  },
  {
   "cell_type": "code",
   "execution_count": 27,
   "id": "d777a666",
   "metadata": {},
   "outputs": [
    {
     "data": {
      "text/plain": [
       "{'count': 3,\n",
       " 'resources': [{'labels': [],\n",
       "   'resource_group_id': 'calabria',\n",
       "   'status': 'PROVISIONED',\n",
       "   'status_message': 'All onboarding steps are completed.',\n",
       "   'tenant_id': 'df5fe658-4415-4a70-9aa9-6916c4c40810',\n",
       "   'zone_id': ''},\n",
       "  {'labels': [],\n",
       "   'resource_group_id': 'defect-det',\n",
       "   'status': 'PROVISIONED',\n",
       "   'status_message': 'All onboarding steps are completed.',\n",
       "   'tenant_id': 'df5fe658-4415-4a70-9aa9-6916c4c40810',\n",
       "   'zone_id': ''},\n",
       "  {'labels': [],\n",
       "   'resource_group_id': 'default',\n",
       "   'status': 'PROVISIONED',\n",
       "   'status_message': 'All onboarding steps are completed.',\n",
       "   'tenant_id': 'df5fe658-4415-4a70-9aa9-6916c4c40810',\n",
       "   'zone_id': 'df5fe658-4415-4a70-9aa9-6916c4c40810'}]}"
      ]
     },
     "execution_count": 27,
     "metadata": {},
     "output_type": "execute_result"
    }
   ],
   "source": [
    "ai_api_client.rest_client.get(\n",
    "    path=f\"/admin/resourceGroups\"\n",
    ")"
   ]
  },
  {
   "cell_type": "code",
   "execution_count": 28,
   "id": "be1e1b46",
   "metadata": {},
   "outputs": [
    {
     "data": {
      "text/plain": [
       "{'message': 'secret has been been created'}"
      ]
     },
     "execution_count": 28,
     "metadata": {},
     "output_type": "execute_result"
    }
   ],
   "source": [
    "# Loads your service key\n",
    "s3_service_key_path = root_path + \"/files/s3_service_key.json\"\n",
    "\n",
    "# Loads the service key file\n",
    "with open(s3_service_key_path) as s3sk:\n",
    "    s3_service_key = json.load(s3sk)\n",
    "\n",
    "default_secret = {\n",
    "    \"name\": \"default\", # Name of the connection\n",
    "    \"type\": \"S3\",\n",
    "    \"endpoint\": s3_service_key[\"host\"],\n",
    "    \"bucket\": s3_service_key[\"bucket\"],\n",
    "    \"pathPrefix\": \"ai_core_tutorial\",\n",
    "    \"region\": s3_service_key[\"region\"],\n",
    "    \"data\": {\n",
    "        \"AWS_ACCESS_KEY_ID\": s3_service_key[\"access_key_id\"],\n",
    "        \"AWS_SECRET_ACCESS_KEY\": s3_service_key[\"secret_access_key\"]\n",
    "    }\n",
    "}\n",
    "\n",
    "# Call the api\n",
    "ai_api_client.rest_client.post(\n",
    "    path=\"/admin/objectStoreSecrets\",\n",
    "    body = default_secret, # defined above\n",
    "    resource_group = \"defect-det\"\n",
    ")"
   ]
  },
  {
   "cell_type": "code",
   "execution_count": 29,
   "id": "4774527d",
   "metadata": {},
   "outputs": [
    {
     "data": {
      "text/plain": [
       "{'count': 1,\n",
       " 'resources': [{'metadata': {'serving.kubeflow.org/s3-endpoint': 's3.amazonaws.com',\n",
       "    'serving.kubeflow.org/s3-region': 'eu-central-1',\n",
       "    'serving.kubeflow.org/s3-usehttps': '',\n",
       "    'serving.kubeflow.org/s3-verifyssl': '',\n",
       "    'storage.ai.sap.com/bucket': 'books-dataset',\n",
       "    'storage.ai.sap.com/endpoint': 's3.amazonaws.com',\n",
       "    'storage.ai.sap.com/path_prefix': 'ai_core_tutorial',\n",
       "    'storage.ai.sap.com/region': 'eu-central-1',\n",
       "    'storage.ai.sap.com/type': 'S3'},\n",
       "   'name': 'default'}]}"
      ]
     },
     "execution_count": 29,
     "metadata": {},
     "output_type": "execute_result"
    }
   ],
   "source": [
    "ai_api_client.rest_client.get(\n",
    "    path=\"/admin/objectStoreSecrets\",\n",
    "    resource_group = \"defect-det\"\n",
    ")"
   ]
  },
  {
   "cell_type": "markdown",
   "id": "68ebee84",
   "metadata": {},
   "source": [
    "secret_name = \"default\"\n",
    "\n",
    "ai_api_client.rest_client.delete(\n",
    "    path=f\"/admin/objectStoreSecrets/{secret_name}\",\n",
    "    resource_group = \"calabria\"\n",
    ")"
   ]
  },
  {
   "cell_type": "markdown",
   "id": "41f1e473",
   "metadata": {},
   "source": [
    "# Train Execution of ML Model"
   ]
  },
  {
   "cell_type": "code",
   "execution_count": 2,
   "id": "73ca454e",
   "metadata": {},
   "outputs": [],
   "source": [
    "import sys, os\n",
    "import json\n",
    "import requests\n",
    "import base64\n",
    "import time\n",
    "import yaml\n",
    "from IPython.display import clear_output\n",
    "from pprint import pprint\n",
    "\n",
    "from ai_api_client_sdk.ai_api_v2_client import AIAPIV2Client\n",
    "from ai_api_client_sdk.models.artifact import Artifact\n",
    "from ai_api_client_sdk.models.status import Status\n",
    "from ai_api_client_sdk.models.target_status import TargetStatus\n",
    "from ai_api_client_sdk.models.parameter_binding import ParameterBinding\n",
    "from ai_api_client_sdk.models.input_artifact_binding import InputArtifactBinding"
   ]
  },
  {
   "cell_type": "code",
   "execution_count": 5,
   "id": "dbf34989",
   "metadata": {},
   "outputs": [],
   "source": [
    "resource_group = \"defect-det\"  # Must be created before\n",
    "\n",
    "aic_service_key = root_path + \"/files/aic_service_key.json\" # ENSURE YOU HAVE THE FILE PLACED CORRECTLY\n",
    "with open(aic_service_key) as ask:\n",
    "    aic_s_k = json.load(ask)\n",
    "\n",
    "# NO CHANGES REQUIRED BELOW\n",
    "#\n",
    "ai_api_v2_client = AIAPIV2Client(\n",
    "    base_url=aic_s_k[\"serviceurls\"][\"AI_API_URL\"] + \"/v2/lm\",\n",
    "    auth_url=aic_s_k[\"url\"] + \"/oauth/token\",\n",
    "    client_id=aic_s_k['clientid'],\n",
    "    client_secret=aic_s_k['clientsecret'],\n",
    "    resource_group=resource_group)"
   ]
  },
  {
   "cell_type": "markdown",
   "id": "897c7cd6",
   "metadata": {},
   "source": [
    "Check the available scenarios"
   ]
  },
  {
   "cell_type": "code",
   "execution_count": 6,
   "id": "e29bbdeb",
   "metadata": {},
   "outputs": [
    {
     "name": "stdout",
     "output_type": "stream",
     "text": [
      "Scenarios\n",
      "------------------------------------------------------------\n",
      "Scenario ID 1 -> [text-clf-tutorial]\n",
      "Scenario ID 2 -> [image-clf-tutorial]\n"
     ]
    }
   ],
   "source": [
    "scenario_resp = ai_api_v2_client.scenario.query(resource_group)\n",
    "\n",
    "print(\"Scenarios\")\n",
    "print(\"---\" * 20)\n",
    "for idx, scenario in enumerate(scenario_resp.resources):\n",
    "    print(f\"Scenario ID {idx + 1} -> [{scenario.id}]\")"
   ]
  },
  {
   "cell_type": "markdown",
   "id": "d286ea1b",
   "metadata": {},
   "source": [
    "Register training data as artifact"
   ]
  },
  {
   "cell_type": "code",
   "execution_count": 7,
   "id": "03bd4235",
   "metadata": {},
   "outputs": [
    {
     "name": "stdout",
     "output_type": "stream",
     "text": [
      "Artifacts registered for image-clf-tutorial scenario!\n",
      "{'id': 'e86e648a-3805-4600-b4f1-a5e9c4811352',\n",
      " 'message': 'Artifact acknowledged',\n",
      " 'url': 'ai://default/data'}\n"
     ]
    }
   ],
   "source": [
    "# NO CHANGES REQUIRED BELOW\n",
    "#\n",
    "# Load training_workflow.yaml\n",
    "training_workflow_file = root_path + \"/workflows/training_workflow_tutorial.yaml\"\n",
    "with open(training_workflow_file) as twf:\n",
    "    training_workflow = yaml.safe_load(twf)\n",
    "#\n",
    "# Load scenario id from train_workflow.yaml\n",
    "scenario_id = training_workflow['metadata']['labels']['scenarios.ai.sap.com/id']\n",
    "#\n",
    "# Set the artifact configuration\n",
    "artifact = {\n",
    "        \"name\": \"tutorial-train-data\", # Modifiable Name\n",
    "        \"kind\": Artifact.Kind.DATASET,\n",
    "        \"url\": \"ai://default/data\",\n",
    "        \"description\": \"Light guide plate dataset\",\n",
    "        \"scenario_id\": scenario_id\n",
    "    }\n",
    "# Store the artifact response to retrieve the id for the training configuration\n",
    "artifact_resp = ai_api_v2_client.artifact.create(**artifact)\n",
    "print(f\"Artifacts registered for {scenario_id} scenario!\")\n",
    "pprint(vars(artifact_resp))\n",
    "#\n",
    "# Checks if the message contains expected string\n",
    "assert artifact_resp.message == 'Artifact acknowledged'"
   ]
  },
  {
   "cell_type": "markdown",
   "id": "848075f7",
   "metadata": {},
   "source": [
    "Create training configuration"
   ]
  },
  {
   "cell_type": "code",
   "execution_count": 14,
   "id": "4a46c46c",
   "metadata": {},
   "outputs": [
    {
     "name": "stdout",
     "output_type": "stream",
     "text": [
      "{'id': '6685a8b1-7762-416e-ac42-5ac5fd32f794',\n",
      " 'message': 'Configuration created'}\n",
      "Configuration created for running the training\n"
     ]
    }
   ],
   "source": [
    "input_artifact_name = training_workflow['spec']['templates'][0]['inputs']['artifacts'][0]['name']\n",
    "executable_name = training_workflow['metadata']['name']\n",
    "\n",
    "artifact_binding = {\n",
    "    \"key\": input_artifact_name,\n",
    "    \"artifact_id\": artifact_resp.id\n",
    "}\n",
    "\n",
    "train_configuration = {\n",
    "    \"name\": \"dev-tutorial-training-configuration\",\n",
    "    \"scenario_id\": scenario_id,\n",
    "    \"executable_id\": executable_name,\n",
    "    \"parameter_bindings\": [],\n",
    "    \"input_artifact_bindings\": [ InputArtifactBinding(**artifact_binding) ]\n",
    "}\n",
    "\n",
    "# store the configuration response to access the id to create an execution\n",
    "train_config_resp = ai_api_v2_client.configuration.create(**train_configuration)\n",
    "pprint(vars(train_config_resp))\n",
    "\n",
    "assert train_config_resp.message == 'Configuration created'\n",
    "\n",
    "print(\"Configuration created for running the training\")"
   ]
  },
  {
   "cell_type": "markdown",
   "id": "f78176fd",
   "metadata": {},
   "source": [
    "Create training execution"
   ]
  },
  {
   "cell_type": "code",
   "execution_count": 15,
   "id": "688ef445",
   "metadata": {},
   "outputs": [
    {
     "name": "stdout",
     "output_type": "stream",
     "text": [
      "{'id': 'eb018d92644dd7d2',\n",
      " 'message': 'Execution scheduled',\n",
      " 'status': <Status.UNKNOWN: 'UNKNOWN'>}\n"
     ]
    }
   ],
   "source": [
    "execution_resp = ai_api_v2_client.execution.create(train_config_resp.id)\n",
    "pprint(vars(execution_resp))"
   ]
  },
  {
   "cell_type": "markdown",
   "id": "70fa158f",
   "metadata": {},
   "source": [
    "Observe training status"
   ]
  },
  {
   "cell_type": "code",
   "execution_count": 16,
   "id": "a35210f4",
   "metadata": {},
   "outputs": [
    {
     "name": "stdout",
     "output_type": "stream",
     "text": [
      "...... execution status ......\n",
      "Training status: Status.COMPLETED\n",
      "Training status details: {'details': [], 'workflow_info': [{'exit_code': '', 'id': 'eb018d92644dd7d2', 'message': '', 'name': 'eb018d92644dd7d2', 'outputs': '', 'phase': 'Running', 'type': 'Pod'}]}\n",
      "Training complete for execution [eb018d92644dd7d2]!\n"
     ]
    }
   ],
   "source": [
    "status = None\n",
    "while status != Status.COMPLETED and status != Status.DEAD:\n",
    "    # Sleep for 5 secs to avoid overwhelming the API with requests\n",
    "    time.sleep(5)\n",
    "    # Clear outputs to reduce clutter\n",
    "    clear_output(wait=True)\n",
    "\n",
    "    execution = ai_api_v2_client.execution.get(execution_resp.id)\n",
    "    status = execution.status\n",
    "    print('...... execution status ......', flush=True)\n",
    "    print(f\"Training status: {execution.status}\")\n",
    "    print(f\"Training status details: {execution.status_details}\")\n",
    "\n",
    "\n",
    "if execution.status == Status.COMPLETED:\n",
    "    print(f\"Training complete for execution [{execution_resp.id}]!\")\n",
    "    output_artifact = execution.output_artifacts[0]\n",
    "    output = {\n",
    "        \"id\": output_artifact.id,\n",
    "        \"name\": output_artifact.name,\n",
    "        \"url\": output_artifact.url\n",
    "    }\n",
    "    with open('training_output.json', 'w') as fp:\n",
    "        json.dump(output, fp)"
   ]
  },
  {
   "cell_type": "markdown",
   "id": "390c962b",
   "metadata": {},
   "source": [
    "# Metrics and performance"
   ]
  },
  {
   "cell_type": "code",
   "execution_count": 18,
   "id": "76f406a4",
   "metadata": {},
   "outputs": [
    {
     "name": "stdout",
     "output_type": "stream",
     "text": [
      "Model Accuracy\n",
      "0.5992168188095093\n"
     ]
    }
   ],
   "source": [
    "filter_string = \"executionId eq '\" + execution_resp.id + \"'\"\n",
    "metric_resp = ai_api_v2_client.metrics.query(execution_ids=execution_resp.id)\n",
    "\n",
    "for m in metric_resp.resources:\n",
    "    for metric in m.metrics:\n",
    "        print(metric.name)\n",
    "        print(metric.value)"
   ]
  },
  {
   "cell_type": "code",
   "execution_count": 105,
   "id": "da5a35b1",
   "metadata": {},
   "outputs": [],
   "source": [
    "all_metrics = []\n",
    "for m in metric_resp.resources:\n",
    "    for custom_info in m.custom_info:\n",
    "        #print(custom_info.name)\n",
    "        #print(custom_info.value)\n",
    "        all_metrics.append(custom_info.value)"
   ]
  },
  {
   "cell_type": "code",
   "execution_count": 154,
   "id": "fbeb295f",
   "metadata": {},
   "outputs": [
    {
     "name": "stdout",
     "output_type": "stream",
     "text": [
      "[0.7164373397827148, 0.7121579051017761, 0.6766947507858276, 0.6495881080627441, 0.5686144828796387]\n",
      "[[1 2]\n",
      " [3 4]]\n"
     ]
    }
   ],
   "source": [
    "import ast\n",
    "import numpy as np\n",
    "\n",
    "training_metrics = ast.literal_eval(all_metrics[0])\n",
    "confusion_matrix = ast.literal_eval(all_metrics[1])\n",
    "print(training_metrics[0].get(\"loss\"))\n",
    "#print(confusion_matrix[0].get(\"actual label - 0\"))\n",
    "#print(confusion_matrix[1].get(\"actual label - 1\"))\n",
    "\n",
    "a = ast.literal_eval(confusion_matrix[0].get(\"actual label - 0\").replace(\" \", \",\"))\n",
    "b = ast.literal_eval(confusion_matrix[1].get(\"actual label - 1\").replace(\" \", \",\"))\n",
    "\n",
    "cnf_matrix = np.array([a, b])\n",
    "print(cnf_matrix)"
   ]
  },
  {
   "cell_type": "code",
   "execution_count": 168,
   "id": "d5555725",
   "metadata": {},
   "outputs": [
    {
     "data": {
      "text/plain": [
       "<matplotlib.legend.Legend at 0x11811a7c0>"
      ]
     },
     "execution_count": 168,
     "metadata": {},
     "output_type": "execute_result"
    },
    {
     "data": {
      "image/png": "[encoded data removed]",
      "text/plain": [
       "<Figure size 1080x1080 with 2 Axes>"
      ]
     },
     "metadata": {
      "needs_background": "light"
     },
     "output_type": "display_data"
    }
   ],
   "source": [
    "import matplotlib\n",
    "import matplotlib.pyplot as plt\n",
    "import itertools\n",
    "\n",
    "fig, axs = plt.subplots(2, 1, figsize=(15,15))\n",
    "\n",
    "a = ast.literal_eval(training_metrics[0].get(\"loss\"))\n",
    "b = ast.literal_eval(training_metrics[1].get(\"val_loss\"))\n",
    "c = ast.literal_eval(training_metrics[2].get(\"accuracy\"))\n",
    "d = ast.literal_eval(training_metrics[3].get(\"val_accuracy\"))\n",
    "\n",
    "axs[0].plot(a)\n",
    "axs[0].plot(b)\n",
    "axs[0].title.set_text('Training Loss vs Validation Loss')\n",
    "axs[0].legend(['Train', 'Val'])\n",
    "\n",
    "axs[1].plot(c)\n",
    "axs[1].plot(d)\n",
    "axs[1].title.set_text('Training Accuracy vs Validation Accuracy')\n",
    "axs[1].legend(['Train', 'Val'])"
   ]
  },
  {
   "cell_type": "code",
   "execution_count": 149,
   "id": "156453bf",
   "metadata": {},
   "outputs": [],
   "source": [
    "def plot_confusion_matrix(cm, classes,\n",
    "                          normalize=False,\n",
    "                          title='Confusion matrix',\n",
    "                          cmap=plt.cm.Blues):\n",
    "    \"\"\"\n",
    "    This function prints and plots the confusion matrix.\n",
    "    Normalization can be applied by setting `normalize=True`.\n",
    "    \"\"\"\n",
    "    if normalize:\n",
    "        cm = cm.astype('float') / cm.sum(axis=1)[:, np.newaxis]\n",
    "        print(\"Normalized confusion matrix\")\n",
    "    else:\n",
    "        print('Confusion matrix, without normalization')\n",
    "\n",
    "    #print(cm)\n",
    "\n",
    "    plt.imshow(cm, interpolation='nearest', cmap=cmap)\n",
    "    plt.title(title)\n",
    "    plt.colorbar()\n",
    "    tick_marks = np.arange(len(classes))\n",
    "    plt.xticks(tick_marks, classes, rotation=45)\n",
    "    plt.yticks(tick_marks, classes)\n",
    "\n",
    "    fmt = '.2f' if normalize else 'd'\n",
    "    thresh = cm.max() / 2.\n",
    "    for i, j in itertools.product(range(cm.shape[0]), range(cm.shape[1])):\n",
    "        plt.text(j, i, format(cm[i, j], fmt),\n",
    "                 horizontalalignment=\"center\",\n",
    "                 color=\"white\" if cm[i, j] > thresh else \"black\")\n",
    "\n",
    "    plt.tight_layout()\n",
    "    plt.ylabel('True label')\n",
    "    plt.xlabel('Predicted label')"
   ]
  },
  {
   "cell_type": "code",
   "execution_count": 147,
   "id": "89bb91ae",
   "metadata": {},
   "outputs": [
    {
     "name": "stdout",
     "output_type": "stream",
     "text": [
      "Normalized confusion matrix\n"
     ]
    },
    {
     "data": {
      "image/png": "[encoded data removed]",
      "text/plain": [
       "<Figure size 432x288 with 2 Axes>"
      ]
     },
     "metadata": {
      "needs_background": "light"
     },
     "output_type": "display_data"
    }
   ],
   "source": [
    "plt.figure()\n",
    "plot_confusion_matrix(cnf_matrix, classes=[\"normaly\",\"anomaly\"], normalize=True,\n",
    "                      title='Confusion matrix with normalization')"
   ]
  },
  {
   "cell_type": "markdown",
   "id": "676a8ae8",
   "metadata": {},
   "source": [
    "# Deploy ML Model"
   ]
  },
  {
   "cell_type": "code",
   "execution_count": 77,
   "id": "feeb6990",
   "metadata": {},
   "outputs": [],
   "source": [
    "serving_workflow_file = root_path + \"workflows/serving_workflow_tutorial.yaml\"\n",
    "with open(serving_workflow_file) as swf:\n",
    "    serving_workflow = yaml.safe_load(swf)\n",
    "\n",
    "scenario_id = serving_workflow['metadata']['labels']['scenarios.ai.sap.com/id']\n",
    "input_artifact_name = serving_workflow['spec']['inputs']['artifacts'][0]['name']\n",
    "executable_name = serving_workflow['metadata']['name']\n",
    "\n",
    "training_output = 'training_output.json'\n",
    "with open(training_output) as to:\n",
    "    serving_input = json.load(to)"
   ]
  },
  {
   "cell_type": "code",
   "execution_count": 78,
   "id": "838ef27c",
   "metadata": {},
   "outputs": [
    {
     "name": "stdout",
     "output_type": "stream",
     "text": [
      "{'id': '9abd26c2-601a-4372-961f-f25ec53a8980',\n",
      " 'message': 'Configuration created'}\n",
      "configuration for serving the model created\n"
     ]
    }
   ],
   "source": [
    "artifact_binding = {\n",
    "    \"key\": input_artifact_name,\n",
    "    \"artifact_id\": serving_input[\"id\"]\n",
    "}\n",
    "\n",
    "serve_configuration = {\n",
    "    \"name\": \"dev-tutorial-serving-configuration\",\n",
    "    \"scenario_id\": scenario_id,\n",
    "    \"executable_id\": executable_name,\n",
    "    \"parameter_bindings\": [],\n",
    "    \"input_artifact_bindings\": [ InputArtifactBinding(**artifact_binding) ]\n",
    "}\n",
    "\n",
    "serve_config_resp = ai_api_v2_client.configuration.create(**serve_configuration)\n",
    "\n",
    "assert serve_config_resp.message == 'Configuration created'\n",
    "\n",
    "pprint(vars(serve_config_resp))\n",
    "print(\"configuration for serving the model created\")"
   ]
  },
  {
   "cell_type": "code",
   "execution_count": 79,
   "id": "d802415f",
   "metadata": {},
   "outputs": [
    {
     "name": "stdout",
     "output_type": "stream",
     "text": [
      "{'deployment_url': '',\n",
      " 'id': 'ddd9442de50c25ad',\n",
      " 'message': 'Deployment scheduled.',\n",
      " 'status': <Status.UNKNOWN: 'UNKNOWN'>}\n"
     ]
    }
   ],
   "source": [
    "deployment_resp = ai_api_v2_client.deployment.create(serve_config_resp.id)\n",
    "pprint(vars(deployment_resp))"
   ]
  },
  {
   "cell_type": "code",
   "execution_count": 80,
   "id": "8d478829",
   "metadata": {},
   "outputs": [
    {
     "name": "stdout",
     "output_type": "stream",
     "text": [
      "...... deployment status ......\n",
      "Status.RUNNING\n",
      "None\n",
      "Deployment with ddd9442de50c25ad complete!\n"
     ]
    }
   ],
   "source": [
    "# Poll deployment status\n",
    "status = None\n",
    "while status != Status.RUNNING and status != Status.DEAD:\n",
    "    time.sleep(5)\n",
    "    clear_output(wait=True)\n",
    "    deployment = ai_api_v2_client.deployment.get(deployment_resp.id)\n",
    "    status = deployment.status\n",
    "    print('...... deployment status ......', flush=True)\n",
    "    print(deployment.status)\n",
    "    pprint(deployment.status_details)\n",
    "\n",
    "    if deployment.status == Status.RUNNING:\n",
    "        print(f\"Deployment with {deployment_resp.id} complete!\")\n",
    "\n",
    "# Allow some time for deployment URL to get ready\n",
    "time.sleep(10)"
   ]
  },
  {
   "cell_type": "markdown",
   "id": "a3ad911f",
   "metadata": {},
   "source": [
    "# Using deployed ML model"
   ]
  },
  {
   "cell_type": "code",
   "execution_count": 81,
   "id": "0fd42270",
   "metadata": {},
   "outputs": [
    {
     "name": "stdout",
     "output_type": "stream",
     "text": [
      "Inference result: {'predictions': 'compliment'}\n",
      "{'_content': b'{\"predictions\":\"compliment\"}\\n',\n",
      " '_content_consumed': True,\n",
      " '_next': None,\n",
      " 'connection': <requests.adapters.HTTPAdapter object at 0x1042ebd90>,\n",
      " 'cookies': <RequestsCookieJar[]>,\n",
      " 'elapsed': datetime.timedelta(microseconds=812606),\n",
      " 'encoding': 'utf-8',\n",
      " 'headers': {'content-length': '29', 'content-type': 'application/json', 'date': 'Wed, 16 Feb 2022 16:13:57 GMT', 'server': 'istio-envoy', 'x-envoy-upstream-service-time': '378'},\n",
      " 'history': [],\n",
      " 'raw': <urllib3.response.HTTPResponse object at 0x10420e0d0>,\n",
      " 'reason': 'OK',\n",
      " 'request': <PreparedRequest [POST]>,\n",
      " 'status_code': 200,\n",
      " 'url': 'https://api.ai.prod.eu-central-1.aws.ml.hana.ondemand.com/v2/inference/deployments/ddd9442de50c25ad/v1/models/textmodel:predict'}\n"
     ]
    }
   ],
   "source": [
    "# Preparing the input for inference\n",
    "# prediciton: compliment\n",
    "test_input = {\n",
    "    \"text\": \"I loved this food, it was very good\"\n",
    "}\n",
    "\n",
    "endpoint = f\"{deployment.deployment_url}/v1/models/imagemodel:predict\"\n",
    "headers = {\"Authorization\": ai_api_v2_client.rest_client.get_token(),\n",
    "           'ai-resource-group': resource_group,\n",
    "           \"Content-Type\": \"application/json\"}\n",
    "response = requests.post(endpoint, headers=headers, json=test_input)\n",
    "\n",
    "print('Inference result:', response.json())\n",
    "pprint(vars(response))"
   ]
  },
  {
   "cell_type": "code",
   "execution_count": 82,
   "id": "addd777f",
   "metadata": {},
   "outputs": [
    {
     "name": "stdout",
     "output_type": "stream",
     "text": [
      "Inference result: {'predictions': 'complaint'}\n",
      "{'_content': b'{\"predictions\":\"complaint\"}\\n',\n",
      " '_content_consumed': True,\n",
      " '_next': None,\n",
      " 'connection': <requests.adapters.HTTPAdapter object at 0x1042eb340>,\n",
      " 'cookies': <RequestsCookieJar[]>,\n",
      " 'elapsed': datetime.timedelta(microseconds=86340),\n",
      " 'encoding': 'utf-8',\n",
      " 'headers': {'content-length': '28', 'content-type': 'application/json', 'date': 'Wed, 16 Feb 2022 16:14:55 GMT', 'server': 'istio-envoy', 'x-envoy-upstream-service-time': '9'},\n",
      " 'history': [],\n",
      " 'raw': <urllib3.response.HTTPResponse object at 0x104293940>,\n",
      " 'reason': 'OK',\n",
      " 'request': <PreparedRequest [POST]>,\n",
      " 'status_code': 200,\n",
      " 'url': 'https://api.ai.prod.eu-central-1.aws.ml.hana.ondemand.com/v2/inference/deployments/ddd9442de50c25ad/v1/models/textmodel:predict'}\n"
     ]
    }
   ],
   "source": [
    "# Preparing the input for inference\n",
    "# prediction: complaint\n",
    "test_input = {\n",
    "    \"text\": \"I hated this food, it was very bad\"\n",
    "}\n",
    "endpoint = f\"{deployment.deployment_url}/v1/models/textmodel:predict\"\n",
    "headers = {\"Authorization\": ai_api_v2_client.rest_client.get_token(),\n",
    "           'ai-resource-group': resource_group,\n",
    "           \"Content-Type\": \"application/json\"}\n",
    "response = requests.post(endpoint, headers=headers, json=test_input)\n",
    "\n",
    "print('Inference result:', response.json())\n",
    "pprint(vars(response))"
   ]
  },
  {
   "cell_type": "markdown",
   "id": "e19f1de5",
   "metadata": {},
   "source": [
    "# Stop deployed model"
   ]
  },
  {
   "cell_type": "code",
   "execution_count": 83,
   "id": "73f48aec",
   "metadata": {},
   "outputs": [
    {
     "name": "stdout",
     "output_type": "stream",
     "text": [
      "...... killing deployment ......\n",
      "Deployment status: Status.STOPPED\n"
     ]
    }
   ],
   "source": [
    "delete_resp = ai_api_v2_client.deployment.modify(deployment_resp.id,\n",
    "                                                 target_status=TargetStatus.STOPPED)\n",
    "status = None\n",
    "while status != Status.STOPPED:\n",
    "    time.sleep(5)\n",
    "    clear_output(wait=True)\n",
    "    deployment = ai_api_v2_client.deployment.get(deployment_resp.id)\n",
    "    status = deployment.status\n",
    "    print('...... killing deployment ......', flush=True)\n",
    "    print(f\"Deployment status: {deployment.status}\")"
   ]
  },
  {
   "cell_type": "code",
   "execution_count": null,
   "id": "7531360e",
   "metadata": {},
   "outputs": [],
   "source": []
  }
 ],
 "metadata": {
  "kernelspec": {
   "display_name": "Python 3 (ipykernel)",
   "language": "python",
   "name": "python3"
  },
  "language_info": {
   "codemirror_mode": {
    "name": "ipython",
    "version": 3
   },
   "file_extension": ".py",
   "mimetype": "text/x-python",
   "name": "python",
   "nbconvert_exporter": "python",
   "pygments_lexer": "ipython3",
   "version": "3.8.9"
  }
 },
 "nbformat": 4,
 "nbformat_minor": 5
}
