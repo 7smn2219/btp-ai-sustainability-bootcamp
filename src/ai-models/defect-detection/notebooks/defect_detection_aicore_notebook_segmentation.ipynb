{
 "cells": [
  {
   "cell_type": "markdown",
   "id": "02fc96bb",
   "metadata": {},
   "source": [
    "# Create AI API client in python"
   ]
  },
  {
   "cell_type": "code",
   "execution_count": 2,
   "id": "568ccecb",
   "metadata": {},
   "outputs": [],
   "source": [
    "root_path = \"/Users/I559573/Documents/D2V2.0_PREP/btp-ai-core-bootcamp/src/ai-models/defect-detection\""
   ]
  },
  {
   "cell_type": "code",
   "execution_count": 1,
   "id": "5bcc9116",
   "metadata": {},
   "outputs": [],
   "source": [
    "from ai_api_client_sdk.ai_api_v2_client import AIAPIV2Client\n",
    "import json"
   ]
  },
  {
   "cell_type": "code",
   "execution_count": 3,
   "id": "60ae9a7e",
   "metadata": {},
   "outputs": [],
   "source": [
    "# Your service key JSON file relative to this notebook\n",
    "aic_service_key_path = '/Users/I559573/AICore_Tutorial/files/aic_service_key.json'\n",
    "\n",
    "# Loads the service key file\n",
    "with open(aic_service_key_path) as ask:\n",
    "    aic_service_key = json.load(ask)\n",
    "\n",
    "# Creating an AI API client instance\n",
    "ai_api_client = AIAPIV2Client(\n",
    "    # The present AI API version is 2\n",
    "    base_url = aic_service_key[\"serviceurls\"][\"AI_API_URL\"] + \"/v2\", \n",
    "    auth_url=  aic_service_key[\"url\"] + \"/oauth/token\",\n",
    "    client_id = aic_service_key['clientid'],\n",
    "    client_secret = aic_service_key['clientsecret']\n",
    ")"
   ]
  },
  {
   "cell_type": "markdown",
   "id": "3a866ea4",
   "metadata": {},
   "source": [
    "# Connect GitHub and Docker to SAP AI Core"
   ]
  },
  {
   "cell_type": "code",
   "execution_count": 4,
   "id": "168fbe9b",
   "metadata": {},
   "outputs": [],
   "source": [
    "git_setup_file_path = root_path + \"/files/git_setup.json\""
   ]
  },
  {
   "cell_type": "code",
   "execution_count": 56,
   "id": "9858457f",
   "metadata": {},
   "outputs": [
    {
     "name": "stdout",
     "output_type": "stream",
     "text": [
      "{'message': 'Repository has been on-boarded.'}\n"
     ]
    }
   ],
   "source": [
    "# Loads your git_setup.json\n",
    "with open(git_setup_file_path) as gs:\n",
    "    setup_json = json.load(gs)\n",
    "\n",
    "# Connects your repo\n",
    "repo_json = setup_json[\"repo\"]\n",
    "response = ai_api_client.rest_client.post(\n",
    "    path=\"/admin/repositories\",\n",
    "    body={\n",
    "        \"name\": repo_json[\"name\"],\n",
    "        \"url\": repo_json[\"url\"],\n",
    "        \"username\": repo_json[\"username\"],\n",
    "        \"password\": repo_json[\"password\"]\n",
    "    }\n",
    ")\n",
    "print(response)"
   ]
  },
  {
   "cell_type": "code",
   "execution_count": 57,
   "id": "7d2b1ef9",
   "metadata": {},
   "outputs": [
    {
     "data": {
      "text/plain": [
       "{'count': 1,\n",
       " 'resources': [{'name': 'aicore-test-calabria',\n",
       "   'status': 'COMPLETED',\n",
       "   'url': 'https://github.com/calabria/aicore-test'}]}"
      ]
     },
     "execution_count": 57,
     "metadata": {},
     "output_type": "execute_result"
    }
   ],
   "source": [
    "ai_api_client.rest_client.get(\n",
    "    path=\"/admin/repositories\"\n",
    ")"
   ]
  },
  {
   "cell_type": "code",
   "execution_count": 58,
   "id": "4a4328ab",
   "metadata": {},
   "outputs": [],
   "source": [
    "# Loads your git_setup.json\n",
    "with open(git_setup_file_path) as gs:\n",
    "    setup_json = json.load(gs)\n",
    "    \n",
    "# Registers the directory as app\n",
    "app_json = setup_json[\"app_seg\"]\n",
    "response = ai_api_client.rest_client.post(\n",
    "    path=\"/admin/applications\",\n",
    "    body={\n",
    "        \"applicationName\": app_json[\"applicationName\"],\n",
    "        \"repositoryUrl\": app_json[\"repositoryUrl\"],\n",
    "        \"revision\": app_json[\"revision\"],\n",
    "        \"path\": app_json[\"path\"]\n",
    "    }\n",
    ")"
   ]
  },
  {
   "cell_type": "code",
   "execution_count": 53,
   "id": "9a1b5da0",
   "metadata": {},
   "outputs": [
    {
     "data": {
      "text/plain": [
       "{'id': 'aicore-test-calabria',\n",
       " 'message': 'Tenant has been removed from repository.'}"
      ]
     },
     "execution_count": 53,
     "metadata": {},
     "output_type": "execute_result"
    }
   ],
   "source": [
    "ai_api_client.rest_client.delete(\n",
    "    path=\"/admin/repositories/aicore-test-calabria\"\n",
    ")"
   ]
  },
  {
   "cell_type": "code",
   "execution_count": 54,
   "id": "1e951568",
   "metadata": {},
   "outputs": [
    {
     "data": {
      "text/plain": [
       "{'id': 'image-seg-app-calabria',\n",
       " 'message': 'Application has been successfully deleted.'}"
      ]
     },
     "execution_count": 54,
     "metadata": {},
     "output_type": "execute_result"
    }
   ],
   "source": [
    "ai_api_client.rest_client.delete(\n",
    "    path=\"/admin/applications/image-seg-app-calabria\"\n",
    ")"
   ]
  },
  {
   "cell_type": "code",
   "execution_count": 59,
   "id": "6afbe290",
   "metadata": {},
   "outputs": [
    {
     "data": {
      "text/plain": [
       "{'count': 3,\n",
       " 'resources': [{'application_name': 'aicore-sound',\n",
       "   'path': 'workflows_sound',\n",
       "   'repository_url': 'https://github.com/calabria/aicore-test',\n",
       "   'revision': 'HEAD'},\n",
       "  {'application_name': 'defect-det-app-calabria',\n",
       "   'path': 'workflows_image',\n",
       "   'repository_url': 'https://github.com/calabria/aicore-test',\n",
       "   'revision': 'HEAD'},\n",
       "  {'application_name': 'image-seg-app-calabria',\n",
       "   'path': 'workflows_seg',\n",
       "   'repository_url': 'https://github.com/calabria/aicore-test',\n",
       "   'revision': 'HEAD'}]}"
      ]
     },
     "execution_count": 59,
     "metadata": {},
     "output_type": "execute_result"
    }
   ],
   "source": [
    "ai_api_client.rest_client.get(\n",
    "    path=\"/admin/applications\"\n",
    ")"
   ]
  },
  {
   "cell_type": "code",
   "execution_count": 118,
   "id": "2cff9c1b",
   "metadata": {},
   "outputs": [
    {
     "data": {
      "text/plain": [
       "{'health_status': 'Healthy',\n",
       " 'message': 'successfully synced (all tasks run)',\n",
       " 'reconciled_at': '2022-04-05T19:52:47Z',\n",
       " 'source': {'path': 'workflows_seg',\n",
       "  'repourl': 'https://github.com/calabria/aicore-test',\n",
       "  'revision': 'b2a324f3733dad83736453da67d46eb6af990f13'},\n",
       " 'sync_finished_at': '2022-04-05T16:34:54Z',\n",
       " 'sync_ressources_status': [{'kind': 'ServingTemplate',\n",
       "   'message': 'servingtemplate.ai.sap.com/image-seg-infer-tutorial unchanged',\n",
       "   'name': 'image-seg-infer-tutorial',\n",
       "   'status': 'Synced'},\n",
       "  {'kind': 'WorkflowTemplate',\n",
       "   'message': 'workflowtemplate.argoproj.io/image-seg-train-tutorial configured',\n",
       "   'name': 'image-seg-train-tutorial',\n",
       "   'status': 'Synced'}],\n",
       " 'sync_started_at': '2022-04-05T16:34:48Z',\n",
       " 'sync_status': 'Synced'}"
      ]
     },
     "execution_count": 118,
     "metadata": {},
     "output_type": "execute_result"
    }
   ],
   "source": [
    "#NB: Pay attentiont to the lenght of the workflow file names!!!\n",
    "app_name = \"image-seg-app-calabria\"\n",
    "#app_name = \"aicore-sound\"\n",
    "#app_name = \"defect-det-app-calabria\"\n",
    "\n",
    "ai_api_client.rest_client.get(\n",
    "    path=f\"/admin/applications/{app_name}/status\"\n",
    ")"
   ]
  },
  {
   "cell_type": "markdown",
   "id": "b139aa55",
   "metadata": {},
   "source": [
    "# Connect Docker to SAP AI Core"
   ]
  },
  {
   "cell_type": "code",
   "execution_count": null,
   "id": "48a8cc78",
   "metadata": {},
   "outputs": [],
   "source": [
    "docker_secret_file_path = root_path + '/files/docker_secret.json'\n",
    "\n",
    "# Loads the json file\n",
    "with open(docker_secret_file_path) as dsf:\n",
    "    docker_secret = json.load(dsf)\n",
    "\n",
    "response = ai_api_client.rest_client.post(\n",
    "    path=\"/admin/dockerRegistrySecrets\",\n",
    "    body={\n",
    "        \"name\": docker_secret[\"name\"],\n",
    "        \"data\": docker_secret[\"data\"]\n",
    "    }\n",
    ")\n",
    "print(response)"
   ]
  },
  {
   "cell_type": "code",
   "execution_count": 9,
   "id": "36524899",
   "metadata": {},
   "outputs": [
    {
     "data": {
      "text/plain": [
       "{'count': 1, 'resources': [{'name': 'docker-registry-secret'}]}"
      ]
     },
     "execution_count": 9,
     "metadata": {},
     "output_type": "execute_result"
    }
   ],
   "source": [
    "ai_api_client.rest_client.get(\n",
    "    path=f\"/admin/dockerRegistrySecrets\"\n",
    ")"
   ]
  },
  {
   "cell_type": "markdown",
   "id": "f407c2d2",
   "metadata": {},
   "source": [
    "Create and upload the docker images for training:"
   ]
  },
  {
   "cell_type": "markdown",
   "id": "7d18a767",
   "metadata": {},
   "source": [
    "- docker login docker.io -u yoshidj\n",
    "- docker build -t yoshidj/image-seg-train:0.0.1 .\n",
    "- docker push docker.io/yoshidj/image-seg-train:0.0.1"
   ]
  },
  {
   "cell_type": "markdown",
   "id": "ef095cc2",
   "metadata": {},
   "source": [
    "NB: In order to install sap-tracking-sdk, the VPN needs to be turned on"
   ]
  },
  {
   "cell_type": "markdown",
   "id": "34d0e57c",
   "metadata": {},
   "source": [
    "# Create Resource Group and Connect AWS S3 to SAP AI Core"
   ]
  },
  {
   "cell_type": "code",
   "execution_count": null,
   "id": "7ede3cff",
   "metadata": {},
   "outputs": [],
   "source": [
    "ai_api_client.rest_client.post(\n",
    "    path=\"/admin/resourceGroups\",\n",
    "    body={\n",
    "        \"resourceGroupId\": \"defect-det\" # Name of your resource group\n",
    "    }\n",
    ")"
   ]
  },
  {
   "cell_type": "code",
   "execution_count": 13,
   "id": "d777a666",
   "metadata": {},
   "outputs": [
    {
     "data": {
      "text/plain": [
       "{'count': 4,\n",
       " 'resources': [{'labels': [],\n",
       "   'resource_group_id': 'calabria',\n",
       "   'status': 'PROVISIONED',\n",
       "   'status_message': 'All onboarding steps are completed.',\n",
       "   'tenant_id': 'df5fe658-4415-4a70-9aa9-6916c4c40810',\n",
       "   'zone_id': ''},\n",
       "  {'labels': [],\n",
       "   'resource_group_id': 'defect-det',\n",
       "   'status': 'PROVISIONED',\n",
       "   'status_message': 'All onboarding steps are completed.',\n",
       "   'tenant_id': 'df5fe658-4415-4a70-9aa9-6916c4c40810',\n",
       "   'zone_id': ''},\n",
       "  {'labels': [],\n",
       "   'resource_group_id': 'default',\n",
       "   'status': 'PROVISIONED',\n",
       "   'status_message': 'All onboarding steps are completed.',\n",
       "   'tenant_id': 'df5fe658-4415-4a70-9aa9-6916c4c40810',\n",
       "   'zone_id': 'df5fe658-4415-4a70-9aa9-6916c4c40810'},\n",
       "  {'labels': [],\n",
       "   'resource_group_id': 'sound',\n",
       "   'status': 'PROVISIONED',\n",
       "   'status_message': 'All onboarding steps are completed.',\n",
       "   'tenant_id': 'df5fe658-4415-4a70-9aa9-6916c4c40810',\n",
       "   'zone_id': ''}]}"
      ]
     },
     "execution_count": 13,
     "metadata": {},
     "output_type": "execute_result"
    }
   ],
   "source": [
    "ai_api_client.rest_client.get(\n",
    "    path=f\"/admin/resourceGroups\"\n",
    ")"
   ]
  },
  {
   "cell_type": "code",
   "execution_count": null,
   "id": "be1e1b46",
   "metadata": {},
   "outputs": [],
   "source": [
    "# Loads your service key\n",
    "s3_service_key_path = root_path + \"/files/s3_service_key.json\"\n",
    "\n",
    "# Loads the service key file\n",
    "with open(s3_service_key_path) as s3sk:\n",
    "    s3_service_key = json.load(s3sk)\n",
    "\n",
    "default_secret = {\n",
    "    \"name\": \"default\", # Name of the connection\n",
    "    \"type\": \"S3\",\n",
    "    \"endpoint\": s3_service_key[\"host\"],\n",
    "    \"bucket\": s3_service_key[\"bucket\"],\n",
    "    \"pathPrefix\": \"ai_core_tutorial\",\n",
    "    \"region\": s3_service_key[\"region\"],\n",
    "    \"data\": {\n",
    "        \"AWS_ACCESS_KEY_ID\": s3_service_key[\"access_key_id\"],\n",
    "        \"AWS_SECRET_ACCESS_KEY\": s3_service_key[\"secret_access_key\"]\n",
    "    }\n",
    "}\n",
    "\n",
    "# Call the api\n",
    "ai_api_client.rest_client.post(\n",
    "    path=\"/admin/objectStoreSecrets\",\n",
    "    body = default_secret, # defined above\n",
    "    resource_group = \"defect-det\"\n",
    ")"
   ]
  },
  {
   "cell_type": "code",
   "execution_count": 15,
   "id": "4774527d",
   "metadata": {},
   "outputs": [
    {
     "data": {
      "text/plain": [
       "{'count': 1,\n",
       " 'resources': [{'metadata': {'serving.kubeflow.org/s3-endpoint': 's3.amazonaws.com',\n",
       "    'serving.kubeflow.org/s3-region': 'eu-central-1',\n",
       "    'serving.kubeflow.org/s3-usehttps': '',\n",
       "    'serving.kubeflow.org/s3-verifyssl': '',\n",
       "    'storage.ai.sap.com/bucket': 'books-dataset',\n",
       "    'storage.ai.sap.com/endpoint': 's3.amazonaws.com',\n",
       "    'storage.ai.sap.com/path_prefix': 'ai_core_tutorial',\n",
       "    'storage.ai.sap.com/region': 'eu-central-1',\n",
       "    'storage.ai.sap.com/type': 'S3'},\n",
       "   'name': 'default'}]}"
      ]
     },
     "execution_count": 15,
     "metadata": {},
     "output_type": "execute_result"
    }
   ],
   "source": [
    "ai_api_client.rest_client.get(\n",
    "    path=\"/admin/objectStoreSecrets\",\n",
    "    resource_group = \"defect-det\"\n",
    ")"
   ]
  },
  {
   "cell_type": "markdown",
   "id": "68ebee84",
   "metadata": {},
   "source": [
    "secret_name = \"default\"\n",
    "\n",
    "ai_api_client.rest_client.delete(\n",
    "    path=f\"/admin/objectStoreSecrets/{secret_name}\",\n",
    "    resource_group = \"calabria\"\n",
    ")"
   ]
  },
  {
   "cell_type": "markdown",
   "id": "41f1e473",
   "metadata": {},
   "source": [
    "# Train Execution of ML Model"
   ]
  },
  {
   "cell_type": "code",
   "execution_count": 17,
   "id": "73ca454e",
   "metadata": {},
   "outputs": [],
   "source": [
    "import sys, os\n",
    "import json\n",
    "import requests\n",
    "import base64\n",
    "import time\n",
    "import yaml\n",
    "from IPython.display import clear_output\n",
    "from pprint import pprint\n",
    "import ast\n",
    "import re\n",
    "import numpy as np\n",
    "import matplotlib\n",
    "import matplotlib.pyplot as plt\n",
    "import itertools\n",
    "import cv2\n",
    "\n",
    "from ai_api_client_sdk.ai_api_v2_client import AIAPIV2Client\n",
    "from ai_api_client_sdk.models.artifact import Artifact\n",
    "from ai_api_client_sdk.models.status import Status\n",
    "from ai_api_client_sdk.models.target_status import TargetStatus\n",
    "from ai_api_client_sdk.models.parameter_binding import ParameterBinding\n",
    "from ai_api_client_sdk.models.input_artifact_binding import InputArtifactBinding"
   ]
  },
  {
   "cell_type": "code",
   "execution_count": 18,
   "id": "dbf34989",
   "metadata": {},
   "outputs": [],
   "source": [
    "resource_group = \"defect-det\"  # Must be created before\n",
    "\n",
    "aic_service_key = root_path + \"/files/aic_service_key.json\" # ENSURE YOU HAVE THE FILE PLACED CORRECTLY\n",
    "with open(aic_service_key) as ask:\n",
    "    aic_s_k = json.load(ask)\n",
    "\n",
    "# NO CHANGES REQUIRED BELOW\n",
    "#\n",
    "ai_api_v2_client = AIAPIV2Client(\n",
    "    base_url=aic_s_k[\"serviceurls\"][\"AI_API_URL\"] + \"/v2/lm\",\n",
    "    auth_url=aic_s_k[\"url\"] + \"/oauth/token\",\n",
    "    client_id=aic_s_k['clientid'],\n",
    "    client_secret=aic_s_k['clientsecret'],\n",
    "    resource_group=resource_group)"
   ]
  },
  {
   "cell_type": "markdown",
   "id": "897c7cd6",
   "metadata": {},
   "source": [
    "Check the available scenarios"
   ]
  },
  {
   "cell_type": "code",
   "execution_count": 77,
   "id": "e29bbdeb",
   "metadata": {},
   "outputs": [
    {
     "name": "stdout",
     "output_type": "stream",
     "text": [
      "Scenarios\n",
      "------------------------------------------------------------\n",
      "Scenario ID 1 -> [text-clf-tutorial]\n",
      "Scenario ID 2 -> [image-clf-tutorial]\n",
      "Scenario ID 3 -> [sound-scenario]\n",
      "Scenario ID 4 -> [image-seg-tutorial]\n"
     ]
    }
   ],
   "source": [
    "scenario_resp = ai_api_v2_client.scenario.query(resource_group)\n",
    "\n",
    "print(\"Scenarios\")\n",
    "print(\"---\" * 20)\n",
    "for idx, scenario in enumerate(scenario_resp.resources):\n",
    "    print(f\"Scenario ID {idx + 1} -> [{scenario.id}]\")"
   ]
  },
  {
   "cell_type": "markdown",
   "id": "d286ea1b",
   "metadata": {},
   "source": [
    "Register the training data as an artifact"
   ]
  },
  {
   "cell_type": "code",
   "execution_count": 87,
   "id": "03bd4235",
   "metadata": {},
   "outputs": [
    {
     "name": "stdout",
     "output_type": "stream",
     "text": [
      "Artifacts registered for image-seg-tutorial scenario!\n",
      "{'id': '2a08c02b-ab14-4e87-adaf-2e9ad81c69af', 'message': 'Artifact acknowledged', 'url': 'ai://default/data'}\n"
     ]
    }
   ],
   "source": [
    "# Load training_workflow.yaml\n",
    "training_workflow_file = root_path + \"/workflows/training_workflow_seg.yaml\"\n",
    "with open(training_workflow_file) as twf:\n",
    "    training_workflow = yaml.safe_load(twf)\n",
    "#\n",
    "# Load scenario id from train_workflow.yaml\n",
    "scenario_id = training_workflow['metadata']['labels']['scenarios.ai.sap.com/id']\n",
    "\n",
    "#\n",
    "# Set the artifact configuration\n",
    "artifact = {\n",
    "        \"name\": \"segmentation-train-data\", # Modifiable Name\n",
    "        \"kind\": Artifact.Kind.DATASET,\n",
    "        \"url\": \"ai://default/data\",\n",
    "        \"description\": \"Light guide plate dataset\",\n",
    "        \"scenario_id\": scenario_id\n",
    "    }\n",
    "# Store the artifact response to retrieve the id for the training configuration\n",
    "artifact_resp = ai_api_v2_client.artifact.create(**artifact)\n",
    "print(f\"Artifacts registered for {scenario_id} scenario!\")\n",
    "print(vars(artifact_resp))\n",
    "#\n",
    "# Checks if the message contains expected string\n",
    "assert artifact_resp.message == 'Artifact acknowledged'"
   ]
  },
  {
   "cell_type": "markdown",
   "id": "848075f7",
   "metadata": {},
   "source": [
    "Create training configuration"
   ]
  },
  {
   "cell_type": "code",
   "execution_count": 122,
   "id": "4a46c46c",
   "metadata": {},
   "outputs": [
    {
     "name": "stdout",
     "output_type": "stream",
     "text": [
      "{'id': '0ae2ecfe-269c-496b-bafb-f29c3c666971',\n",
      " 'message': 'Configuration created'}\n",
      "Configuration created for running the training\n"
     ]
    }
   ],
   "source": [
    "input_artifact_name = training_workflow['spec']['templates'][0]['inputs']['artifacts'][0]['name']\n",
    "executable_name = training_workflow['metadata']['name']\n",
    "\n",
    "artifact_binding = {\n",
    "    \"key\": input_artifact_name,\n",
    "    \"artifact_id\": artifact_resp.id\n",
    "}\n",
    "\n",
    "train_configuration = {\n",
    "    \"name\": \"dev-tutorial-training-configuration\",\n",
    "    \"scenario_id\": scenario_id,\n",
    "    \"executable_id\": executable_name,\n",
    "    \"parameter_bindings\": [],\n",
    "    \"input_artifact_bindings\": [ InputArtifactBinding(**artifact_binding) ]\n",
    "}\n",
    "\n",
    "# store the configuration response to access the id to create an execution\n",
    "train_config_resp = ai_api_v2_client.configuration.create(**train_configuration)\n",
    "pprint(vars(train_config_resp))\n",
    "\n",
    "assert train_config_resp.message == 'Configuration created'\n",
    "\n",
    "print(\"Configuration created for running the training\")"
   ]
  },
  {
   "cell_type": "markdown",
   "id": "f78176fd",
   "metadata": {},
   "source": [
    "Create training execution"
   ]
  },
  {
   "cell_type": "code",
   "execution_count": 123,
   "id": "688ef445",
   "metadata": {},
   "outputs": [
    {
     "name": "stdout",
     "output_type": "stream",
     "text": [
      "{'id': 'e1b6894048802b55',\n",
      " 'message': 'Execution scheduled',\n",
      " 'status': <Status.UNKNOWN: 'UNKNOWN'>}\n"
     ]
    }
   ],
   "source": [
    "execution_resp = ai_api_v2_client.execution.create(train_config_resp.id)\n",
    "pprint(vars(execution_resp))"
   ]
  },
  {
   "cell_type": "markdown",
   "id": "70fa158f",
   "metadata": {},
   "source": [
    "Observe training status"
   ]
  },
  {
   "cell_type": "code",
   "execution_count": 124,
   "id": "a35210f4",
   "metadata": {},
   "outputs": [
    {
     "name": "stdout",
     "output_type": "stream",
     "text": [
      "...... execution status ......\n",
      "Training status: Status.COMPLETED\n",
      "(\"Training status details: {'details': [{'container_name': 'main', \"\n",
      " \"'exit_code': 0, 'last_log_messages': 'pr  5 20:42 variables***/assets:total \"\n",
      " '0***/variables:total 21868-rw-r--r--. 1 nobody nogroup 22383166 Apr  5 20:42 '\n",
      " '***-rw-r--r--. 1 nobody nogroup     6226 Apr  5 20:42 ***---End '\n",
      " \"Training---...', 'message': '', 'pod_name': 'e1b6894048802b55', 'ready': \"\n",
      " \"False}, {'container_name': 'wait', 'exit_code': '', 'last_log_messages': \"\n",
      " \"'a6dc52 fbfbf91403fb2163f641812b3f1001cde99ce7c90be27be38b30703b34e37fc9] \"\n",
      " 'killed successfully\"time=\"2022-04-05T20:42:***\" level=info msg=\"Alloc=6749 '\n",
      " 'TotalAlloc=29142 Sys=74577 NumGC=14 Goroutines=10\"...\\', \\'message\\': \\'\\', '\n",
      " \"'pod_name': 'e1b6894048802b55', 'ready': True}], 'workflow_info': \"\n",
      " \"[{'exit_code': '', 'id': 'e1b6894048802b55', 'message': '', 'name': \"\n",
      " \"'e1b6894048802b55', 'outputs': '', 'phase': 'Running', 'type': 'Pod'}]}\")\n",
      "Training complete for execution [e1b6894048802b55]!\n"
     ]
    }
   ],
   "source": [
    "status = None\n",
    "while status != Status.COMPLETED and status != Status.DEAD:\n",
    "    # Sleep for 5 secs to avoid overwhelming the API with requests\n",
    "    time.sleep(5)\n",
    "    # Clear outputs to reduce clutter\n",
    "    clear_output(wait=True)\n",
    "\n",
    "    execution = ai_api_v2_client.execution.get(execution_resp.id)\n",
    "    status = execution.status\n",
    "    print('...... execution status ......', flush=True)\n",
    "    print(f\"Training status: {execution.status}\")\n",
    "    pprint(f\"Training status details: {execution.status_details}\")\n",
    "\n",
    "if execution.status == Status.COMPLETED:\n",
    "    print(f\"Training complete for execution [{execution_resp.id}]!\")\n",
    "    output_artifact = execution.output_artifacts[0]\n",
    "    output = {\n",
    "        \"id\": output_artifact.id,\n",
    "        \"name\": output_artifact.name,\n",
    "        \"url\": output_artifact.url\n",
    "    }\n",
    "    with open('training_output.json', 'w') as fp: #Save the reference to the model stored in S3\n",
    "        json.dump(output, fp)"
   ]
  },
  {
   "cell_type": "markdown",
   "id": "390c962b",
   "metadata": {},
   "source": [
    "# Metrics and performance"
   ]
  },
  {
   "cell_type": "code",
   "execution_count": 125,
   "id": "76f406a4",
   "metadata": {},
   "outputs": [
    {
     "name": "stdout",
     "output_type": "stream",
     "text": [
      "Model accuracy\n",
      "0.42640236020088196\n"
     ]
    }
   ],
   "source": [
    "filter_string = \"executionId eq '\" + execution_resp.id + \"'\"\n",
    "metric_resp = ai_api_v2_client.metrics.query(execution_ids=execution_resp.id)\n",
    "\n",
    "for m in metric_resp.resources:\n",
    "    for metric in m.metrics:\n",
    "        print(metric.name)\n",
    "        print(metric.value)"
   ]
  },
  {
   "cell_type": "code",
   "execution_count": 126,
   "id": "4f250ecc",
   "metadata": {},
   "outputs": [],
   "source": [
    "all_metrics = []\n",
    "for m in metric_resp.resources:\n",
    "    for custom_info in m.custom_info:\n",
    "        #print(custom_info.name)\n",
    "        #print(custom_info.value)\n",
    "        all_metrics.append(custom_info.value)"
   ]
  },
  {
   "cell_type": "code",
   "execution_count": 127,
   "id": "75b0b1ca",
   "metadata": {},
   "outputs": [
    {
     "data": {
      "text/plain": [
       "<matplotlib.legend.Legend at 0x12018a460>"
      ]
     },
     "execution_count": 127,
     "metadata": {},
     "output_type": "execute_result"
    },
    {
     "data": {
      "image/png": "[encoded data removed]",
      "text/plain": [
       "<Figure size 360x720 with 2 Axes>"
      ]
     },
     "metadata": {
      "needs_background": "light"
     },
     "output_type": "display_data"
    }
   ],
   "source": [
    "training_metrics = ast.literal_eval(all_metrics[0])\n",
    "fig, axs = plt.subplots(2, 1, figsize=(5,10))\n",
    "\n",
    "a = ast.literal_eval(training_metrics[0].get(\"loss\"))\n",
    "b = ast.literal_eval(training_metrics[1].get(\"val_loss\"))\n",
    "c = ast.literal_eval(training_metrics[2].get(\"iou\"))\n",
    "d = ast.literal_eval(training_metrics[3].get(\"val_iou\"))\n",
    "\n",
    "axs[0].plot(a)\n",
    "axs[0].plot(b)\n",
    "axs[0].title.set_text('Training Loss vs Validation Loss')\n",
    "axs[0].legend(['Train', 'Val'])\n",
    "\n",
    "axs[1].plot(c)\n",
    "axs[1].plot(d)\n",
    "axs[1].title.set_text('Training Accuracy vs Validation Accuracy')\n",
    "axs[1].legend(['Train', 'Val'])"
   ]
  },
  {
   "cell_type": "markdown",
   "id": "676a8ae8",
   "metadata": {},
   "source": [
    "# Deploy ML Model"
   ]
  },
  {
   "cell_type": "code",
   "execution_count": 50,
   "id": "feeb6990",
   "metadata": {},
   "outputs": [],
   "source": [
    "serving_workflow_file = root_path + \"/workflows/serving_workflow_tutorial.yaml\"\n",
    "with open(serving_workflow_file) as swf:\n",
    "    serving_workflow = yaml.safe_load(swf)\n",
    "\n",
    "scenario_id = serving_workflow['metadata']['labels']['scenarios.ai.sap.com/id']\n",
    "input_artifact_name = serving_workflow['spec']['inputs']['artifacts'][0]['name']\n",
    "executable_name = serving_workflow['metadata']['name']\n",
    "\n",
    "training_output = 'training_output.json'\n",
    "with open(training_output) as to:\n",
    "    serving_input = json.load(to)"
   ]
  },
  {
   "cell_type": "code",
   "execution_count": 51,
   "id": "838ef27c",
   "metadata": {},
   "outputs": [
    {
     "name": "stdout",
     "output_type": "stream",
     "text": [
      "{'id': '89d24758-01d2-4a15-81e5-76cab76f3329',\n",
      " 'message': 'Configuration created'}\n",
      "configuration for serving the model created\n"
     ]
    }
   ],
   "source": [
    "artifact_binding = {\n",
    "    \"key\": input_artifact_name,\n",
    "    \"artifact_id\": serving_input[\"id\"]\n",
    "}\n",
    "\n",
    "serve_configuration = {\n",
    "    \"name\": \"dev-tutorial-serving-configuration\",\n",
    "    \"scenario_id\": scenario_id,\n",
    "    \"executable_id\": executable_name,\n",
    "    \"parameter_bindings\": [],\n",
    "    \"input_artifact_bindings\": [ InputArtifactBinding(**artifact_binding) ]\n",
    "}\n",
    "\n",
    "serve_config_resp = ai_api_v2_client.configuration.create(**serve_configuration)\n",
    "\n",
    "assert serve_config_resp.message == 'Configuration created'\n",
    "\n",
    "pprint(vars(serve_config_resp))\n",
    "print(\"configuration for serving the model created\")"
   ]
  },
  {
   "cell_type": "code",
   "execution_count": 52,
   "id": "d802415f",
   "metadata": {},
   "outputs": [
    {
     "name": "stdout",
     "output_type": "stream",
     "text": [
      "{'deployment_url': '',\n",
      " 'id': 'dfccff3697592a4a',\n",
      " 'message': 'Deployment scheduled.',\n",
      " 'status': <Status.UNKNOWN: 'UNKNOWN'>}\n"
     ]
    }
   ],
   "source": [
    "deployment_resp = ai_api_v2_client.deployment.create(serve_config_resp.id)\n",
    "pprint(vars(deployment_resp))"
   ]
  },
  {
   "cell_type": "code",
   "execution_count": 53,
   "id": "8d478829",
   "metadata": {},
   "outputs": [
    {
     "name": "stdout",
     "output_type": "stream",
     "text": [
      "...... deployment status ......\n",
      "Status.RUNNING\n",
      "{'deployment_info': [{'last_transition_time': '2022-03-23T15:51:49Z',\n",
      "                      'message': None,\n",
      "                      'status': 'True',\n",
      "                      'type': 'IngressReady'},\n",
      "                     {'last_transition_time': '2022-03-23T15:51:49Z',\n",
      "                      'message': None,\n",
      "                      'severity': 'Info',\n",
      "                      'status': 'True',\n",
      "                      'type': 'PredictorConfigurationReady'},\n",
      "                     {'last_transition_time': '2022-03-23T15:51:49Z',\n",
      "                      'message': None,\n",
      "                      'status': 'True',\n",
      "                      'type': 'PredictorReady'},\n",
      "                     {'last_transition_time': '2022-03-23T15:51:42Z',\n",
      "                      'message': None,\n",
      "                      'severity': 'Info',\n",
      "                      'status': 'True',\n",
      "                      'type': 'PredictorRouteReady'},\n",
      "                     {'last_transition_time': '2022-03-23T15:51:49Z',\n",
      "                      'message': None,\n",
      "                      'status': 'True',\n",
      "                      'type': 'Ready'}],\n",
      " 'details': {'default': {'predictor': {'revision_info': {'ready': 'True'}}}}}\n",
      "Deployment with dfccff3697592a4a complete!\n"
     ]
    }
   ],
   "source": [
    "# Poll deployment status\n",
    "status = None\n",
    "while status != Status.RUNNING and status != Status.DEAD:\n",
    "    time.sleep(5)\n",
    "    clear_output(wait=True)\n",
    "    #deployment_resp_id = \"d82a366155be8696\"\n",
    "    deployment = ai_api_v2_client.deployment.get(deployment_resp.id)\n",
    "    #deployment = ai_api_v2_client.deployment.get(deployment_resp_id)\n",
    "    status = deployment.status\n",
    "    print('...... deployment status ......', flush=True)\n",
    "    print(deployment.status)\n",
    "    pprint(deployment.status_details)\n",
    "\n",
    "    if deployment.status == Status.RUNNING:\n",
    "        print(f\"Deployment with {deployment_resp.id} complete!\")\n",
    "        #print(f\"Deployment with {deployment_resp_id} complete!\")\n",
    "\n",
    "# Allow some time for deployment URL to get ready\n",
    "time.sleep(10)"
   ]
  },
  {
   "cell_type": "markdown",
   "id": "a3ad911f",
   "metadata": {},
   "source": [
    "# Using deployed ML model"
   ]
  },
  {
   "cell_type": "markdown",
   "id": "fccc5033",
   "metadata": {},
   "source": [
    "- docker build -t YOUR_DOCKER_REPO/image-clf-serve:0.0.1 .\n",
    "- docker push docker.io/YOUR_DOCKER_REPO/image-clf-serve:0.0.1"
   ]
  },
  {
   "cell_type": "markdown",
   "id": "ed27959b",
   "metadata": {},
   "source": [
    "Let's define the local path to the dataset:"
   ]
  },
  {
   "cell_type": "code",
   "execution_count": 35,
   "id": "3d75fcad",
   "metadata": {},
   "outputs": [],
   "source": [
    "import glob\n",
    "\n",
    "path_normal_images = glob.glob(\"../data/Images/OK/*\")\n",
    "path_abnormal_images = glob.glob(\"../data/Images/NG/*\")\n",
    "#print(path_normal_images)\n",
    "#print(path_abnormal_images)\n",
    "\n",
    "path_img_ok = root_path + \"/data/Images/OK/\"\n",
    "path_img_ko = root_path + \"/data/Images/NG/\"\n",
    "print(path_img_ok)\n",
    "print(path_img_ko)"
   ]
  },
  {
   "cell_type": "code",
   "execution_count": 24,
   "id": "2390ad67",
   "metadata": {},
   "outputs": [],
   "source": [
    "IMG_WIDTH=224\n",
    "IMG_HEIGHT=224\n",
    "\n",
    "def create_dataset(img_folder):\n",
    "    img_data_array = []\n",
    "    for file in os.listdir(img_folder):\n",
    "            image_path = os.path.join(img_folder, file)\n",
    "            image = cv2.imread(image_path, cv2.IMREAD_COLOR)\n",
    "            image = cv2.resize(image, (IMG_HEIGHT, IMG_WIDTH),interpolation = cv2.INTER_AREA)\n",
    "            image = np.array(image)\n",
    "            image = image.astype('float32')\n",
    "            image /= 255\n",
    "            img_data_array.append(image)\n",
    "    return img_data_array"
   ]
  },
  {
   "cell_type": "code",
   "execution_count": 36,
   "id": "f180fa5f",
   "metadata": {},
   "outputs": [
    {
     "name": "stdout",
     "output_type": "stream",
     "text": [
      "400\n",
      "422\n"
     ]
    }
   ],
   "source": [
    "img_dataset_ok = create_dataset(path_img_ok)\n",
    "img_dataset_ko = create_dataset(path_img_ko)\n",
    "print(len(img_dataset_ok))\n",
    "print(len(img_dataset_ko))"
   ]
  },
  {
   "cell_type": "markdown",
   "id": "c80e5e1f",
   "metadata": {},
   "source": [
    "First let's visualize an example:"
   ]
  },
  {
   "cell_type": "code",
   "execution_count": 37,
   "id": "c23e05fa",
   "metadata": {},
   "outputs": [
    {
     "data": {
      "text/plain": [
       "<matplotlib.image.AxesImage at 0x12301c9d0>"
      ]
     },
     "execution_count": 37,
     "metadata": {},
     "output_type": "execute_result"
    },
    {
     "data": {
      "image/png": "[encoded data removed]",
      "text/plain": [
       "<Figure size 360x360 with 1 Axes>"
      ]
     },
     "metadata": {
      "needs_background": "light"
     },
     "output_type": "display_data"
    }
   ],
   "source": [
    "plt.figure(figsize = (5, 5))\n",
    "plt.imshow(img_dataset_ko[0], interpolation='nearest')"
   ]
  },
  {
   "cell_type": "markdown",
   "id": "495fb8a4",
   "metadata": {},
   "source": [
    "In order to perform the inference step, let's transform one of the images into a string (this will constitute the body of the API call):"
   ]
  },
  {
   "cell_type": "code",
   "execution_count": 39,
   "id": "c2fc81cc",
   "metadata": {},
   "outputs": [],
   "source": [
    "from base64 import b64encode\n",
    "import base64\n",
    "import io\n",
    "from json import dumps\n",
    "\n",
    "ENCODING = 'utf-8'\n",
    "\n",
    "# first: reading the binary stuff\n",
    "# note the 'rb' flag\n",
    "# result: bytes\n",
    "with open(path_normal_images[0], 'rb') as open_file:\n",
    "    byte_content = open_file.read()\n",
    "\n",
    "# second: base64 encode read data\n",
    "# result: bytes (again)\n",
    "base64_bytes = b64encode(byte_content)\n",
    "\n",
    "# third: decode these bytes to text\n",
    "# result: string (in utf-8)\n",
    "base64_string = base64_bytes.decode(ENCODING)\n",
    "\n",
    "# optional: doing stuff with the data\n",
    "# result here: some dict\n",
    "raw_data = {\"image\": base64_string}"
   ]
  },
  {
   "cell_type": "code",
   "execution_count": 38,
   "id": "380bae8b",
   "metadata": {},
   "outputs": [],
   "source": [
    "f = open(\"image.txt\", \"w\")\n",
    "f.write(base64_string)\n",
    "f.close()"
   ]
  },
  {
   "cell_type": "code",
   "execution_count": 54,
   "id": "0fd42270",
   "metadata": {},
   "outputs": [
    {
     "name": "stdout",
     "output_type": "stream",
     "text": [
      "https://api.ai.prod.eu-central-1.aws.ml.hana.ondemand.com/v2/inference/deployments/dfccff3697592a4a/v1/models/imagemodel:predict\n",
      "Inference result: {'Normal': '0.9998896477045491'}\n"
     ]
    }
   ],
   "source": [
    "# Preparing the input for inference\n",
    "# prediciton: normal product\n",
    "\n",
    "endpoint = f\"{deployment.deployment_url}/v1/models/imagemodel:predict\"\n",
    "print(endpoint)\n",
    "\n",
    "headers = {\"Authorization\": ai_api_v2_client.rest_client.get_token(),\n",
    "           'ai-resource-group': resource_group,\n",
    "           \"Content-Type\": \"application/json\"}\n",
    "response = requests.post(endpoint, headers=headers, json=raw_data)\n",
    "\n",
    "print('Inference result:', response.json())\n",
    "#pprint(vars(response))"
   ]
  },
  {
   "cell_type": "markdown",
   "id": "e19f1de5",
   "metadata": {},
   "source": [
    "# Stop deployed model"
   ]
  },
  {
   "cell_type": "code",
   "execution_count": 19,
   "id": "73f48aec",
   "metadata": {},
   "outputs": [
    {
     "name": "stdout",
     "output_type": "stream",
     "text": [
      "...... killing deployment ......\n",
      "Deployment status: Status.STOPPED\n"
     ]
    }
   ],
   "source": [
    "delete_resp = ai_api_v2_client.deployment.modify(deployment_resp.id,\n",
    "                                                 target_status=TargetStatus.STOPPED)\n",
    "\n",
    "#deployment_resp_id = \"d835352306a37be6\"\n",
    "#delete_resp = ai_api_v2_client.deployment.modify(deployment_resp_id,\n",
    "#                                                 target_status=TargetStatus.STOPPED)\n",
    "\n",
    "status = None\n",
    "while status != Status.STOPPED:\n",
    "    time.sleep(5)\n",
    "    clear_output(wait=True)\n",
    "    deployment = ai_api_v2_client.deployment.get(deployment_resp.id)\n",
    "    #deployment = ai_api_v2_client.deployment.get(deployment_resp_id)\n",
    "    status = deployment.status\n",
    "    print('...... killing deployment ......', flush=True)\n",
    "    print(f\"Deployment status: {deployment.status}\")"
   ]
  },
  {
   "cell_type": "code",
   "execution_count": null,
   "id": "7531360e",
   "metadata": {},
   "outputs": [],
   "source": []
  }
 ],
 "metadata": {
  "kernelspec": {
   "display_name": "Python 3 (ipykernel)",
   "language": "python",
   "name": "python3"
  },
  "language_info": {
   "codemirror_mode": {
    "name": "ipython",
    "version": 3
   },
   "file_extension": ".py",
   "mimetype": "text/x-python",
   "name": "python",
   "nbconvert_exporter": "python",
   "pygments_lexer": "ipython3",
   "version": "3.9.10"
  }
 },
 "nbformat": 4,
 "nbformat_minor": 5
}
