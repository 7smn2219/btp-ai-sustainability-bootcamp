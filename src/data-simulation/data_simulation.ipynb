{
 "cells": [
  {
   "cell_type": "code",
   "execution_count": 1,
   "id": "68651e31",
   "metadata": {},
   "outputs": [],
   "source": [
    "%matplotlib inline\n",
    "\n",
    "import pandas as pd\n",
    "import datetime\n",
    "import numpy as np\n",
    "from numpy import random\n",
    "import matplotlib.pyplot as plt\n",
    "import matplotlib.dates as mdates\n",
    "import math\n",
    "import statistics\n",
    "from scipy import signal\n",
    "import random\n",
    "import uuid\n",
    "import json"
   ]
  },
  {
   "cell_type": "code",
   "execution_count": 2,
   "id": "83e1676b",
   "metadata": {},
   "outputs": [],
   "source": [
    "#Model parameters\n",
    "num_machines = 10\n",
    "num_prod_lines = 5\n",
    "cyclical_maintenance = 30 #number of days\n",
    "\n",
    "fault_prob = [0.001, 0.003, 0.005]\n",
    "\n",
    "#To be decided if the numbers are per day or per hour\n",
    "scenarios = {\n",
    "    \"normal\":\n",
    "    {\n",
    "        \"avg_yield\": 1500,\n",
    "        \"std_yield\": 5,\n",
    "        \"avg_perc_defects\": 0.01,\n",
    "        \"std_perc_defects\": 0.001,\n",
    "        \"avg_energy_cons\": 10000,\n",
    "        \"std_energy_cons\": 200\n",
    "    },\n",
    "    \"abnormal\": \n",
    "    {\n",
    "        \"avg_yield\": 1500,\n",
    "        \"std_yield\": 10,\n",
    "        \"avg_perc_defects\": 0.03,\n",
    "        \"std_perc_defects\": 0.003,\n",
    "        \"avg_energy_cons\": 20000,\n",
    "        \"std_energy_cons\": 500,\n",
    "    },\n",
    "    \"highly_abnormal\": \n",
    "    {\n",
    "        \"avg_yield\": 1500,\n",
    "        \"std_yield\": 20,\n",
    "        \"avg_perc_defects\": 0.05,\n",
    "        \"std_perc_defects\": 0.005,\n",
    "        \"avg_energy_cons\": 30000,\n",
    "        \"std_energy_cons\": 500,\n",
    "    }\n",
    "}"
   ]
  },
  {
   "cell_type": "code",
   "execution_count": 3,
   "id": "744c791b",
   "metadata": {},
   "outputs": [],
   "source": [
    "def gaussian_distr(mean, std, size):\n",
    "    return np.random.normal(loc=mean, scale=std, size=size)\n",
    "\n",
    "def possoin_distr(prob, size):\n",
    "    return np.random.poisson(lam=prob, size=size)\n",
    "\n",
    "a = gaussian_distr(scenarios[\"normal\"][\"avg_yield\"], scenarios[\"normal\"][\"std_yield\"], 10000)\n",
    "b = gaussian_distr(scenarios[\"normal\"][\"avg_perc_defects\"], scenarios[\"normal\"][\"std_perc_defects\"], 10000)\n",
    "#print(a)"
   ]
  },
  {
   "cell_type": "code",
   "execution_count": 4,
   "id": "78cc40e5",
   "metadata": {},
   "outputs": [],
   "source": [
    "def plot_hist(data, step, title):\n",
    "    fig, ax = plt.subplots()\n",
    "    #plt.xlabel(\"a\")\n",
    "    #plt.ylabel(r\"b\")\n",
    "    ax.grid()\n",
    "    plt.hist(data, bins=np.arange(data.min(), data.max(), step))\n",
    "    plt.title(title)\n",
    "    plt.show();"
   ]
  },
  {
   "cell_type": "code",
   "execution_count": 5,
   "id": "a4e8810b",
   "metadata": {},
   "outputs": [
    {
     "data": {
      "image/png": "[encoded data removed]",
      "text/plain": [
       "<Figure size 432x288 with 1 Axes>"
      ]
     },
     "metadata": {
      "needs_background": "light"
     },
     "output_type": "display_data"
    },
    {
     "data": {
      "image/png": "[encoded data removed]",
      "text/plain": [
       "<Figure size 432x288 with 1 Axes>"
      ]
     },
     "metadata": {
      "needs_background": "light"
     },
     "output_type": "display_data"
    }
   ],
   "source": [
    "plot_hist(a, 1, \"Yield\")\n",
    "plot_hist(b, 0.0005, \"Percentage of defected items\")"
   ]
  },
  {
   "cell_type": "code",
   "execution_count": 6,
   "id": "b55e1def",
   "metadata": {},
   "outputs": [
    {
     "data": {
      "image/png": "[encoded data removed]",
      "text/plain": [
       "<Figure size 432x288 with 1 Axes>"
      ]
     },
     "metadata": {
      "needs_background": "light"
     },
     "output_type": "display_data"
    }
   ],
   "source": [
    "#plt.hist(a, bins=np.arange(a.min(), a.max()+1, 1))\n",
    "plt.hist(b, bins=np.arange(b.min(), b.max(), 0.001))\n",
    "plt.show()"
   ]
  },
  {
   "cell_type": "code",
   "execution_count": 7,
   "id": "a79a3548",
   "metadata": {},
   "outputs": [],
   "source": [
    "def next_maint(data, df, list_maint):\n",
    "    output = None\n",
    "    #print(data)\n",
    "    #print(list_maint)\n",
    "    for x, y in zip(list_maint, list_maint[1:]):\n",
    "        #print(x, y)\n",
    "        if(data >= x and data <= y):\n",
    "            output=df.iloc[y]['Timestamp']\n",
    "            #print(y, output)\n",
    "    return output"
   ]
  },
  {
   "cell_type": "code",
   "execution_count": 8,
   "id": "684a2d15",
   "metadata": {},
   "outputs": [],
   "source": [
    "def generateTimeSeries(months):\n",
    "    \n",
    "    date_rng = pd.date_range(start=datetime.date.today() - datetime.timedelta(months*365/12), \n",
    "                             end=datetime.date.today(), freq='H')\n",
    "    df = pd.DataFrame(date_rng, columns=['Timestamp'])\n",
    "    \n",
    "    df['year'] = df.Timestamp.dt.year\n",
    "    df['month'] = df.Timestamp.dt.month\n",
    "    df['day'] = df.Timestamp.dt.day\n",
    "    df['index'] = df.Timestamp.index\n",
    "    \n",
    "    df['CycMaintenance'] = 0\n",
    "    df.loc[(df.Timestamp.dt.day%28 == 0) & (df.Timestamp.dt.hour%13 == 0) & \n",
    "           (df.Timestamp.dt.hour != 0), 'CycMaintenance'] = 1\n",
    "    #print(df[df['CycMaintenance'] == 1])\n",
    "    \n",
    "    list_maint = df[df.CycMaintenance == 1].index.tolist()\n",
    "    list_maint.append(df.index.min())\n",
    "    list_maint.append(df.index.max())\n",
    "    list_maint.sort()\n",
    "    print(list_maint)\n",
    "    \n",
    "    df['NextMaintenance'] = df['index'].apply(next_maint, args=(df, list_maint))\n",
    "\n",
    "    df1 = pd.DataFrame(range(1, num_machines+1), columns=['MachineID'])\n",
    "    df2 = pd.DataFrame(range(1, num_prod_lines+1), columns=['ProdLineID'])\n",
    "\n",
    "    df_tot = df2.merge(df1, how='cross')\n",
    "    df_tot['FaultProb'] = random.choices(fault_prob, k = len(df_tot))\n",
    "    df_tot = df.merge(df_tot, how='cross')\n",
    "    \n",
    "    df_tot['EnergyCons'] = gaussian_distr(scenarios[\"normal\"][\"avg_energy_cons\"], \n",
    "                                          scenarios[\"normal\"][\"std_energy_cons\"], len(df_tot))\n",
    "    \n",
    "    df_tot['Yield'] = gaussian_distr(scenarios[\"normal\"][\"avg_yield\"], \n",
    "                                          scenarios[\"normal\"][\"std_yield\"], len(df_tot))\n",
    "    \n",
    "    df_tot['DefectedItems'] = df_tot['Yield']*gaussian_distr(scenarios[\"normal\"][\"avg_perc_defects\"], \n",
    "                                          scenarios[\"normal\"][\"std_perc_defects\"], len(df_tot))\n",
    "    \n",
    "    \n",
    "    return df_tot"
   ]
  },
  {
   "cell_type": "code",
   "execution_count": 9,
   "id": "d46bccd2",
   "metadata": {},
   "outputs": [
    {
     "name": "stdout",
     "output_type": "stream",
     "text": [
      "[0, 685, 1429, 2173, 2184]\n"
     ]
    }
   ],
   "source": [
    "df = generateTimeSeries(3)"
   ]
  },
  {
   "cell_type": "code",
   "execution_count": 10,
   "id": "029912b2",
   "metadata": {},
   "outputs": [],
   "source": [
    "#print(df['ProdLineID'].unique())\n",
    "df['Fault'] = 0\n",
    "\n",
    "for i in df['ProdLineID'].unique():\n",
    "    #print(i)\n",
    "    for j in df['MachineID'].unique():\n",
    "        #print(str(i)+\", \"+str(j))\n",
    "        #print(df[(df.ProdLineID == i) & (df.MachineID == j)]['FaultProb'].unique())\n",
    "        temp = (df[(df.ProdLineID == i) & (df.MachineID == j)]).copy()\n",
    "        temp = temp[['FaultProb','Fault']]\n",
    "        #print(len(temp))\n",
    "        temp['Fault'] = possoin_distr(temp['FaultProb'].unique(), len(temp))\n",
    "        df.loc[temp.index , 'Fault'] = temp['Fault']\n",
    "\n",
    "#print(df)"
   ]
  },
  {
   "cell_type": "code",
   "execution_count": 11,
   "id": "c7a9a779",
   "metadata": {},
   "outputs": [],
   "source": [
    "#print(list(scenarios.keys())[1:])\n",
    "#print(random.choices(list(scenarios.keys())[1:], k = len(df[df.Fault == 1])))\n",
    "df['FaultType'] = 'normal'\n",
    "df.loc[df.Fault == 1, 'FaultType'] = random.choices(list(scenarios.keys())[1:2], k = len(df[df.Fault == 1]))"
   ]
  },
  {
   "cell_type": "code",
   "execution_count": 12,
   "id": "dbf9ccb4",
   "metadata": {},
   "outputs": [
    {
     "name": "stdout",
     "output_type": "stream",
     "text": [
      "                Timestamp  year  month  day  index  CycMaintenance  \\\n",
      "68350 2022-01-25 23:00:00  2022      1   25   1367               0   \n",
      "76950 2022-02-02 03:00:00  2022      2    2   1539               0   \n",
      "80500 2022-02-05 02:00:00  2022      2    5   1610               0   \n",
      "\n",
      "          NextMaintenance  ProdLineID  MachineID  FaultProb    EnergyCons  \\\n",
      "68350 2022-01-28 13:00:00           1          1      0.001  10209.954527   \n",
      "76950 2022-02-28 13:00:00           1          1      0.001   9905.596550   \n",
      "80500 2022-02-28 13:00:00           1          1      0.001   9954.025448   \n",
      "\n",
      "             Yield  DefectedItems  Fault FaultType  \n",
      "68350  1503.679202      15.345134      1  abnormal  \n",
      "76950  1491.717185      15.911582      1  abnormal  \n",
      "80500  1504.996380      15.681149      1  abnormal  \n"
     ]
    }
   ],
   "source": [
    "print(df[(df.ProdLineID == 1) & (df.MachineID == 1) & (df.Fault == 1)])\n",
    "df_fault = df[df.Fault == 1]"
   ]
  },
  {
   "cell_type": "code",
   "execution_count": null,
   "id": "5d18c1b2",
   "metadata": {},
   "outputs": [
    {
     "name": "stdout",
     "output_type": "stream",
     "text": [
      "INFO: Pandarallel will run on 4 workers.\n",
      "INFO: Pandarallel will use standard multiprocessing data transfer (pipe) to transfer data between the main process and workers.\n"
     ]
    }
   ],
   "source": [
    "import itertools\n",
    "\n",
    "from pandarallel import pandarallel\n",
    "pandarallel.initialize()\n",
    "\n",
    "def spalma(data, temp, i, j):\n",
    "    output = 0\n",
    "    temp1 = temp[temp.Fault == 1]\n",
    "    #print(data)\n",
    "    for index, row in temp1.iterrows():\n",
    "        #print(data,row['Timestamp'],row['NextMaintenance'])\n",
    "        if((data >= row['Timestamp']) & (data < row['NextMaintenance'])):\n",
    "            output = 1\n",
    "    # print(output)\n",
    "    return output\n",
    "\n",
    "temp_list = []\n",
    "for i,j in itertools.product(df['ProdLineID'].unique(), df['MachineID'].unique()):\n",
    "#for i,j in itertools.product([1],[1]):\n",
    "    #print(str(i)+\", \"+str(j))\n",
    "    temp = (df[(df.ProdLineID == i) & (df.MachineID == j)]).copy()\n",
    "    temp['Fault'] = temp['Timestamp'].parallel_apply(spalma, args=(temp, i,j))\n",
    "    temp_list.append(temp)"
   ]
  },
  {
   "cell_type": "code",
   "execution_count": 18,
   "id": "ba924ae2",
   "metadata": {},
   "outputs": [
    {
     "data": {
      "text/plain": [
       "[<matplotlib.lines.Line2D at 0x1249e2670>]"
      ]
     },
     "execution_count": 18,
     "metadata": {},
     "output_type": "execute_result"
    },
    {
     "data": {
      "image/png": "[encoded data removed]",
      "text/plain": [
       "<Figure size 1440x360 with 1 Axes>"
      ]
     },
     "metadata": {
      "needs_background": "light"
     },
     "output_type": "display_data"
    }
   ],
   "source": [
    "#print(temp_list[0])\n",
    "cesare = temp_list[0]\n",
    "plt.figure(figsize=(20,5))\n",
    "plt.plot(cesare['Timestamp'], cesare['Fault'])"
   ]
  },
  {
   "cell_type": "code",
   "execution_count": 19,
   "id": "b14ef435",
   "metadata": {},
   "outputs": [],
   "source": [
    "df = pd.concat(temp_list)"
   ]
  },
  {
   "cell_type": "code",
   "execution_count": null,
   "id": "0bde3dfd",
   "metadata": {},
   "outputs": [],
   "source": []
  }
 ],
 "metadata": {
  "kernelspec": {
   "display_name": "Python 3 (ipykernel)",
   "language": "python",
   "name": "python3"
  },
  "language_info": {
   "codemirror_mode": {
    "name": "ipython",
    "version": 3
   },
   "file_extension": ".py",
   "mimetype": "text/x-python",
   "name": "python",
   "nbconvert_exporter": "python",
   "pygments_lexer": "ipython3",
   "version": "3.9.10"
  }
 },
 "nbformat": 4,
 "nbformat_minor": 5
}
