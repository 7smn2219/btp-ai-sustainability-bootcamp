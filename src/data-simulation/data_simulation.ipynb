{
 "cells": [
  {
   "cell_type": "code",
   "execution_count": 28,
   "id": "68651e31",
   "metadata": {},
   "outputs": [],
   "source": [
    "%matplotlib inline\n",
    "\n",
    "import pandas as pd\n",
    "import datetime\n",
    "import numpy as np\n",
    "from numpy import random\n",
    "import matplotlib.pyplot as plt\n",
    "import matplotlib.dates as mdates\n",
    "import math\n",
    "import statistics\n",
    "from scipy import signal\n",
    "import random\n",
    "import uuid\n",
    "import json"
   ]
  },
  {
   "cell_type": "code",
   "execution_count": 146,
   "id": "83e1676b",
   "metadata": {},
   "outputs": [],
   "source": [
    "#Model parameters\n",
    "num_machines = 10\n",
    "num_prod_lines = 5\n",
    "\n",
    "fault_prob = [0.001, 0.003, 0.005]\n",
    "\n",
    "scenarios = {\n",
    "    \"normal\":\n",
    "    {\n",
    "        \"avg_yield\": 1500,\n",
    "        \"std_yield\": 5,\n",
    "        \"avg_perc_defects\": 0.01,\n",
    "        \"std_perc_defects\": 0.001,\n",
    "        \"avg_energy_cons\": 10000,\n",
    "        \"std_energy_cons\": 200\n",
    "    },\n",
    "    \"abnormal\": \n",
    "    {\n",
    "        \"avg_yield\": 1500,\n",
    "        \"std_yield\": 10,\n",
    "        \"avg_perc_defects\": 0.03,\n",
    "        \"std_perc_defects\": 0.003,\n",
    "        \"avg_energy_cons\": 20000,\n",
    "        \"std_energy_cons\": 500,\n",
    "    },\n",
    "    \"highly_abnormal\": \n",
    "    {\n",
    "        \"avg_yield\": 1500,\n",
    "        \"std_yield\": 20,\n",
    "        \"avg_perc_defects\": 0.05,\n",
    "        \"std_perc_defects\": 0.005,\n",
    "        \"avg_energy_cons\": 30000,\n",
    "        \"std_energy_cons\": 500,\n",
    "    },\n",
    "    \"brakdown\": \n",
    "    {\n",
    "        \"avg_yield\": 0,\n",
    "        \"std_yield\": 0,\n",
    "        \"avg_perc_defects\": 0,\n",
    "        \"std_perc_defects\": 0,\n",
    "        \"avg_energy_cons\": 0,\n",
    "        \"std_energy_cons\": 0,\n",
    "    }\n",
    "}"
   ]
  },
  {
   "cell_type": "code",
   "execution_count": 141,
   "id": "744c791b",
   "metadata": {},
   "outputs": [],
   "source": [
    "def gaussian_distr(mean, std, size):\n",
    "    return np.random.normal(loc=mean, scale=std, size=size)\n",
    "\n",
    "def possoin_distr(prob, size):\n",
    "    return np.random.poisson(lam=prob, size=size)\n",
    "\n",
    "a = gaussian_distr(scenarios[\"normal\"][\"avg_yield\"], scenarios[\"normal\"][\"std_yield\"], 10000)\n",
    "b = gaussian_distr(scenarios[\"normal\"][\"avg_perc_defects\"], scenarios[\"normal\"][\"std_perc_defects\"], 10000)\n",
    "#print(a)\n",
    "#c = possoin_distr(scenarios[\"normal\"][\"fault_prob\"], 2000)\n",
    "#print(c)"
   ]
  },
  {
   "cell_type": "code",
   "execution_count": 154,
   "id": "844e774c",
   "metadata": {},
   "outputs": [
    {
     "name": "stdout",
     "output_type": "stream",
     "text": [
      "[0.003]\n"
     ]
    }
   ],
   "source": [
    "import random\n",
    "x =  random.sample(fault_prob, 1)\n",
    "print(x)"
   ]
  },
  {
   "cell_type": "code",
   "execution_count": 152,
   "id": "78cc40e5",
   "metadata": {},
   "outputs": [],
   "source": [
    "def plot_hist(data, step, title):\n",
    "    fig, ax = plt.subplots()\n",
    "    #plt.xlabel(\"a\")\n",
    "    #plt.ylabel(r\"b\")\n",
    "    ax.grid()\n",
    "    plt.hist(data, bins=np.arange(data.min(), data.max(), step))\n",
    "    plt.title(title)\n",
    "    plt.show();"
   ]
  },
  {
   "cell_type": "code",
   "execution_count": 133,
   "id": "a4e8810b",
   "metadata": {},
   "outputs": [
    {
     "data": {
      "image/png": "[encoded data removed]",
      "text/plain": [
       "<Figure size 432x288 with 1 Axes>"
      ]
     },
     "metadata": {
      "needs_background": "light"
     },
     "output_type": "display_data"
    },
    {
     "data": {
      "image/png": "[encoded data removed]",
      "text/plain": [
       "<Figure size 432x288 with 1 Axes>"
      ]
     },
     "metadata": {
      "needs_background": "light"
     },
     "output_type": "display_data"
    }
   ],
   "source": [
    "plot_hist(a, 1, \"Yield\")\n",
    "plot_hist(b, 0.0005, \"Percentage of defected items\")"
   ]
  },
  {
   "cell_type": "code",
   "execution_count": 134,
   "id": "b55e1def",
   "metadata": {},
   "outputs": [
    {
     "data": {
      "image/png": "[encoded data removed]",
      "text/plain": [
       "<Figure size 432x288 with 1 Axes>"
      ]
     },
     "metadata": {
      "needs_background": "light"
     },
     "output_type": "display_data"
    }
   ],
   "source": [
    "#plt.hist(a, bins=np.arange(a.min(), a.max()+1, 1))\n",
    "plt.hist(b, bins=np.arange(b.min(), b.max(), 0.001))\n",
    "plt.show()"
   ]
  },
  {
   "cell_type": "code",
   "execution_count": 138,
   "id": "684a2d15",
   "metadata": {},
   "outputs": [],
   "source": [
    "def generateTimeSeries(months):\n",
    "    \n",
    "    date_rng = pd.date_range(start=datetime.date.today() - datetime.timedelta(months*365/12), \n",
    "                             end=datetime.date.today(), freq='H')\n",
    "    df = pd.DataFrame(date_rng, columns=['Timestamp'])\n",
    "\n",
    "    df1 = pd.DataFrame(range(1, num_machines+1), columns=['MachineID'])\n",
    "    df2 = pd.DataFrame(range(1, num_prod_lines+1), columns=['ProdLineID'])\n",
    "\n",
    "    df_tot = df2.merge(df1, how='cross')\n",
    "    \n",
    "    \n",
    "    df_tot = df.merge(df_tot, how='cross')\n",
    "    \n",
    "    df_tot['EnergyCons'] = gaussian_distr(scenarios[\"normal\"][\"avg_energy_cons\"], \n",
    "                                          scenarios[\"normal\"][\"std_energy_cons\"], len(df_tot))\n",
    "    \n",
    "    df_tot['Yield'] = gaussian_distr(scenarios[\"normal\"][\"avg_yield\"], \n",
    "                                          scenarios[\"normal\"][\"std_yield\"], len(df_tot))\n",
    "    \n",
    "    df_tot['DefectedItems'] = df_tot['Yield']*gaussian_distr(scenarios[\"normal\"][\"avg_perc_defects\"], \n",
    "                                          scenarios[\"normal\"][\"std_perc_defects\"], len(df_tot))\n",
    "    \n",
    "    return df_tot"
   ]
  },
  {
   "cell_type": "code",
   "execution_count": 139,
   "id": "d46bccd2",
   "metadata": {},
   "outputs": [],
   "source": [
    "df = generateTimeSeries(1)"
   ]
  },
  {
   "cell_type": "code",
   "execution_count": 140,
   "id": "dbf9ccb4",
   "metadata": {},
   "outputs": [
    {
     "name": "stdout",
     "output_type": "stream",
     "text": [
      "       Timestamp  ProdLineID  MachineID    EnergyCons        Yield   Defected\n",
      "0     2022-01-26           1          1  10088.215864  1500.385640  15.214399\n",
      "1     2022-01-26           1          2   9611.199350  1496.831836  17.180533\n",
      "2     2022-01-26           1          3   9886.938457  1502.002845  17.684410\n",
      "3     2022-01-26           1          4   9854.265025  1495.366549  16.292385\n",
      "4     2022-01-26           1          5  10094.847649  1499.628282  15.933524\n",
      "...          ...         ...        ...           ...          ...        ...\n",
      "36045 2022-02-25           5          6   9996.153342  1508.089774  17.459516\n",
      "36046 2022-02-25           5          7   9877.083259  1496.591034  16.497211\n",
      "36047 2022-02-25           5          8  10450.695274  1503.269930  13.454592\n",
      "36048 2022-02-25           5          9   9745.823508  1497.707924  13.435931\n",
      "36049 2022-02-25           5         10   9851.975350  1502.863540  13.335925\n",
      "\n",
      "[36050 rows x 6 columns]\n"
     ]
    }
   ],
   "source": [
    "print(df)"
   ]
  },
  {
   "cell_type": "code",
   "execution_count": null,
   "id": "0a365e4f",
   "metadata": {},
   "outputs": [],
   "source": []
  }
 ],
 "metadata": {
  "kernelspec": {
   "display_name": "Python 3 (ipykernel)",
   "language": "python",
   "name": "python3"
  },
  "language_info": {
   "codemirror_mode": {
    "name": "ipython",
    "version": 3
   },
   "file_extension": ".py",
   "mimetype": "text/x-python",
   "name": "python",
   "nbconvert_exporter": "python",
   "pygments_lexer": "ipython3",
   "version": "3.8.9"
  }
 },
 "nbformat": 4,
 "nbformat_minor": 5
}
