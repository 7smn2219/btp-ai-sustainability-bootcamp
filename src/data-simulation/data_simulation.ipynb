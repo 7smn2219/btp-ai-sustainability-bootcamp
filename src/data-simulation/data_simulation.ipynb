{
 "cells": [
  {
   "cell_type": "code",
   "execution_count": 1,
   "id": "68651e31",
   "metadata": {},
   "outputs": [],
   "source": [
    "%matplotlib inline\n",
    "\n",
    "import pandas as pd\n",
    "import datetime\n",
    "import numpy as np\n",
    "from numpy import random\n",
    "import matplotlib.pyplot as plt\n",
    "import matplotlib.dates as mdates\n",
    "import math\n",
    "import statistics\n",
    "from scipy import signal\n",
    "import random\n",
    "import uuid\n",
    "import json\n",
    "import itertools\n",
    "from pandarallel import pandarallel"
   ]
  },
  {
   "cell_type": "code",
   "execution_count": 2,
   "id": "83e1676b",
   "metadata": {},
   "outputs": [],
   "source": [
    "#Model parameters\n",
    "num_machines = 10\n",
    "num_prod_lines = 5\n",
    "cyclical_maintenance = 30 #number of days\n",
    "\n",
    "fault_prob = [0.001, 0.003, 0.005]\n",
    "\n",
    "#To be decided if the numbers are per day or per hour\n",
    "scenarios = {\n",
    "    \"normal\":\n",
    "    {\n",
    "        \"avg_yield\": 1500,\n",
    "        \"std_yield\": 5,\n",
    "        \"avg_perc_defects\": 0.01,\n",
    "        \"std_perc_defects\": 0.001,\n",
    "        \"avg_energy_cons\": 10000,\n",
    "        \"std_energy_cons\": 200\n",
    "    },\n",
    "    \"abnormal\": \n",
    "    {\n",
    "        \"avg_yield\": 1500,\n",
    "        \"std_yield\": 10,\n",
    "        \"avg_perc_defects\": 0.03,\n",
    "        \"std_perc_defects\": 0.003,\n",
    "        \"avg_energy_cons\": 20000,\n",
    "        \"std_energy_cons\": 500,\n",
    "    },\n",
    "    \"highly_abnormal\": \n",
    "    {\n",
    "        \"avg_yield\": 1500,\n",
    "        \"std_yield\": 20,\n",
    "        \"avg_perc_defects\": 0.05,\n",
    "        \"std_perc_defects\": 0.005,\n",
    "        \"avg_energy_cons\": 30000,\n",
    "        \"std_energy_cons\": 500,\n",
    "    }\n",
    "}"
   ]
  },
  {
   "cell_type": "code",
   "execution_count": 3,
   "id": "744c791b",
   "metadata": {},
   "outputs": [],
   "source": [
    "def gaussian_distr(mean, std, size):\n",
    "    return np.random.normal(loc=mean, scale=std, size=size)\n",
    "\n",
    "def possoin_distr(prob, size):\n",
    "    return np.random.poisson(lam=prob, size=size)\n",
    "\n",
    "a = gaussian_distr(scenarios[\"normal\"][\"avg_yield\"], scenarios[\"normal\"][\"std_yield\"], 10000)\n",
    "b = gaussian_distr(scenarios[\"normal\"][\"avg_perc_defects\"], scenarios[\"normal\"][\"std_perc_defects\"], 10000)\n",
    "#print(a)"
   ]
  },
  {
   "cell_type": "code",
   "execution_count": 4,
   "id": "78cc40e5",
   "metadata": {},
   "outputs": [],
   "source": [
    "def plot_hist(data, step, title):\n",
    "    fig, ax = plt.subplots()\n",
    "    #plt.xlabel(\"a\")\n",
    "    #plt.ylabel(r\"b\")\n",
    "    ax.grid()\n",
    "    plt.hist(data, bins=np.arange(data.min(), data.max(), step))\n",
    "    plt.title(title)\n",
    "    plt.show();"
   ]
  },
  {
   "cell_type": "code",
   "execution_count": 5,
   "id": "a4e8810b",
   "metadata": {},
   "outputs": [
    {
     "data": {
      "image/png": "[encoded data removed]",
      "text/plain": [
       "<Figure size 432x288 with 1 Axes>"
      ]
     },
     "metadata": {
      "needs_background": "light"
     },
     "output_type": "display_data"
    },
    {
     "data": {
      "image/png": "[encoded data removed]",
      "text/plain": [
       "<Figure size 432x288 with 1 Axes>"
      ]
     },
     "metadata": {
      "needs_background": "light"
     },
     "output_type": "display_data"
    }
   ],
   "source": [
    "plot_hist(a, 1, \"Yield\")\n",
    "plot_hist(b, 0.0005, \"Percentage of defected items\")"
   ]
  },
  {
   "cell_type": "code",
   "execution_count": 6,
   "id": "b55e1def",
   "metadata": {},
   "outputs": [
    {
     "data": {
      "image/png": "[encoded data removed]",
      "text/plain": [
       "<Figure size 432x288 with 1 Axes>"
      ]
     },
     "metadata": {
      "needs_background": "light"
     },
     "output_type": "display_data"
    }
   ],
   "source": [
    "#plt.hist(a, bins=np.arange(a.min(), a.max()+1, 1))\n",
    "plt.hist(b, bins=np.arange(b.min(), b.max(), 0.001))\n",
    "plt.show()"
   ]
  },
  {
   "cell_type": "code",
   "execution_count": 7,
   "id": "a79a3548",
   "metadata": {},
   "outputs": [],
   "source": [
    "def next_maint(data, df, list_maint):\n",
    "    output = None\n",
    "    #print(data)\n",
    "    #print(list_maint)\n",
    "    for x, y in zip(list_maint, list_maint[1:]):\n",
    "        #print(x, y)\n",
    "        if(data >= x and data <= y):\n",
    "            output=df.iloc[y]['Timestamp']\n",
    "            #print(y, output)\n",
    "    return output"
   ]
  },
  {
   "cell_type": "code",
   "execution_count": 8,
   "id": "684a2d15",
   "metadata": {},
   "outputs": [],
   "source": [
    "def generateTimeSeries(months):\n",
    "    \n",
    "    date_rng = pd.date_range(start=datetime.date.today() - datetime.timedelta(months*365/12), \n",
    "                             end=datetime.date.today(), freq='H')\n",
    "    df = pd.DataFrame(date_rng, columns=['Timestamp'])\n",
    "    \n",
    "    df['year'] = df.Timestamp.dt.year\n",
    "    df['month'] = df.Timestamp.dt.month\n",
    "    df['day'] = df.Timestamp.dt.day\n",
    "    df['index'] = df.Timestamp.index\n",
    "    \n",
    "    df['CycMaintenance'] = 0\n",
    "    df.loc[(df.Timestamp.dt.day%28 == 0) & (df.Timestamp.dt.hour%13 == 0) & \n",
    "           (df.Timestamp.dt.hour != 0), 'CycMaintenance'] = 1\n",
    "    #print(df[df['CycMaintenance'] == 1])\n",
    "    \n",
    "    list_maint = df[df.CycMaintenance == 1].index.tolist()\n",
    "    list_maint.append(df.index.min())\n",
    "    list_maint.append(df.index.max())\n",
    "    list_maint.sort()\n",
    "    print(list_maint)\n",
    "    \n",
    "    df['NextMaintenance'] = df['index'].apply(next_maint, args=(df, list_maint))\n",
    "\n",
    "    df1 = pd.DataFrame(range(1, num_machines+1), columns=['MachineID'])\n",
    "    df2 = pd.DataFrame(range(1, num_prod_lines+1), columns=['ProdLineID'])\n",
    "\n",
    "    df_tot = df2.merge(df1, how='cross')\n",
    "    df_tot['FaultProb'] = random.choices(fault_prob, k = len(df_tot))\n",
    "    df_tot = df.merge(df_tot, how='cross')\n",
    "    \n",
    "    df_tot['EnergyCons'] = gaussian_distr(scenarios[\"normal\"][\"avg_energy_cons\"], \n",
    "                                          scenarios[\"normal\"][\"std_energy_cons\"], len(df_tot))\n",
    "    \n",
    "    df_tot['Yield'] = gaussian_distr(scenarios[\"normal\"][\"avg_yield\"], \n",
    "                                          scenarios[\"normal\"][\"std_yield\"], len(df_tot))\n",
    "    \n",
    "    df_tot['DefectedItems'] = df_tot['Yield']*gaussian_distr(scenarios[\"normal\"][\"avg_perc_defects\"], \n",
    "                                          scenarios[\"normal\"][\"std_perc_defects\"], len(df_tot))\n",
    "    \n",
    "    \n",
    "    return df_tot"
   ]
  },
  {
   "cell_type": "code",
   "execution_count": 30,
   "id": "d46bccd2",
   "metadata": {},
   "outputs": [
    {
     "name": "stdout",
     "output_type": "stream",
     "text": [
      "[0, 661, 1405, 2149, 2184]\n"
     ]
    }
   ],
   "source": [
    "df = generateTimeSeries(3)"
   ]
  },
  {
   "cell_type": "code",
   "execution_count": 31,
   "id": "029912b2",
   "metadata": {},
   "outputs": [],
   "source": [
    "#print(df['ProdLineID'].unique())\n",
    "df['Fault'] = 0\n",
    "\n",
    "for i in df['ProdLineID'].unique():\n",
    "    #print(i)\n",
    "    for j in df['MachineID'].unique():\n",
    "        #print(str(i)+\", \"+str(j))\n",
    "        #print(df[(df.ProdLineID == i) & (df.MachineID == j)]['FaultProb'].unique())\n",
    "        temp = (df[(df.ProdLineID == i) & (df.MachineID == j)]).copy()\n",
    "        temp = temp[['FaultProb','Fault']]\n",
    "        #print(len(temp))\n",
    "        temp['Fault'] = possoin_distr(temp['FaultProb'].unique(), len(temp))\n",
    "        df.loc[temp.index , 'Fault'] = temp['Fault']\n",
    "\n",
    "#print(df)"
   ]
  },
  {
   "cell_type": "code",
   "execution_count": 32,
   "id": "c7a9a779",
   "metadata": {},
   "outputs": [],
   "source": [
    "#print(list(scenarios.keys())[1:])\n",
    "#print(random.choices(list(scenarios.keys())[1:], k = len(df[df.Fault == 1])))\n",
    "df['FaultType'] = 'normal'\n",
    "df.loc[df.Fault == 1, 'FaultType'] = random.choices(list(scenarios.keys())[1:2], k = len(df[df.Fault == 1]))"
   ]
  },
  {
   "cell_type": "code",
   "execution_count": 33,
   "id": "dbf9ccb4",
   "metadata": {},
   "outputs": [
    {
     "name": "stdout",
     "output_type": "stream",
     "text": [
      "                 Timestamp  year  month  day  index  CycMaintenance  \\\n",
      "26650  2021-12-23 05:00:00  2021     12   23    533               0   \n",
      "100800 2022-02-23 00:00:00  2022      2   23   2016               0   \n",
      "\n",
      "           NextMaintenance  ProdLineID  MachineID  FaultProb   EnergyCons  \\\n",
      "26650  2021-12-28 13:00:00           1          1      0.001  9644.698422   \n",
      "100800 2022-02-28 13:00:00           1          1      0.001  9789.108924   \n",
      "\n",
      "              Yield  DefectedItems  Fault FaultType  \n",
      "26650   1503.239008      15.058345      1  abnormal  \n",
      "100800  1499.468461      14.550919      1  abnormal  \n"
     ]
    }
   ],
   "source": [
    "print(df[(df.ProdLineID == 1) & (df.MachineID == 1) & (df.Fault == 1)])\n",
    "df_fault = df[df.Fault == 1]"
   ]
  },
  {
   "cell_type": "code",
   "execution_count": 34,
   "id": "5d18c1b2",
   "metadata": {},
   "outputs": [],
   "source": [
    "def assign_faults_tbm(data, temp, stop_tbm):\n",
    "    output = data['Fault']\n",
    "    data = data['Timestamp']\n",
    "    temp1 = temp[(temp.Fault == 1) & (temp.Timestamp < stop_tbm)]\n",
    "    #print(data)\n",
    "    for index, row in temp1.iterrows():\n",
    "        #print(data,row['Timestamp'],row['NextMaintenance'])\n",
    "        if((data >= row['Timestamp']) & (data < row['NextMaintenance']) & (data < stop_tbm)):\n",
    "            output = 1\n",
    "    # print(output)\n",
    "    return output"
   ]
  },
  {
   "cell_type": "code",
   "execution_count": 35,
   "id": "9bed7c28",
   "metadata": {},
   "outputs": [],
   "source": [
    "def generate_faults_pdm(temp, start_pdm, fault_hours):\n",
    "    output = 0\n",
    "    temp1 = temp[(temp.Fault == 1) & (temp.Timestamp >= start_pdm)]\n",
    "    fault_ts = temp1.Timestamp.values\n",
    "    #print(fault_ts)\n",
    "    for i in fault_ts:\n",
    "        #print(i)\n",
    "        temp.loc[(temp.Timestamp >= i) & (temp.Timestamp <= (i+np.timedelta64(fault_hours, 'h'))), 'Fault'] = 1"
   ]
  },
  {
   "cell_type": "code",
   "execution_count": 36,
   "id": "567698e5",
   "metadata": {},
   "outputs": [],
   "source": [
    "def generate_faults(df):\n",
    "    start_pdm = df.loc[int(len(df['Timestamp'])/2)]['Timestamp']\n",
    "    print(start_pdm)\n",
    "    #pandarallel.initialize()\n",
    "    temp_list = []\n",
    "    for i,j in itertools.product(df['ProdLineID'].unique(), df['MachineID'].unique()):\n",
    "    #for i,j in itertools.product([1],[1]):\n",
    "        print(str(i)+\", \"+str(j))\n",
    "        temp = (df[(df.ProdLineID == i) & (df.MachineID == j)]).copy()\n",
    "        temp['Fault'] = temp[['Timestamp','Fault']].apply(assign_faults_tbm, args=(temp, start_pdm), axis=1)\n",
    "        generate_faults_pdm(temp, start_pdm, 12)\n",
    "        temp_list.append(temp)\n",
    "    return pd.concat(temp_list)   "
   ]
  },
  {
   "cell_type": "code",
   "execution_count": 37,
   "id": "a49dfe74",
   "metadata": {},
   "outputs": [
    {
     "name": "stdout",
     "output_type": "stream",
     "text": [
      "2022-01-15 12:00:00\n",
      "1, 1\n",
      "1, 2\n",
      "1, 3\n",
      "1, 4\n",
      "1, 5\n",
      "1, 6\n",
      "1, 7\n",
      "1, 8\n",
      "1, 9\n",
      "1, 10\n",
      "2, 1\n",
      "2, 2\n",
      "2, 3\n",
      "2, 4\n",
      "2, 5\n",
      "2, 6\n",
      "2, 7\n",
      "2, 8\n",
      "2, 9\n",
      "2, 10\n",
      "3, 1\n",
      "3, 2\n",
      "3, 3\n",
      "3, 4\n",
      "3, 5\n",
      "3, 6\n",
      "3, 7\n",
      "3, 8\n",
      "3, 9\n",
      "3, 10\n",
      "4, 1\n",
      "4, 2\n",
      "4, 3\n",
      "4, 4\n",
      "4, 5\n",
      "4, 6\n",
      "4, 7\n",
      "4, 8\n",
      "4, 9\n",
      "4, 10\n",
      "5, 1\n",
      "5, 2\n",
      "5, 3\n",
      "5, 4\n",
      "5, 5\n",
      "5, 6\n",
      "5, 7\n",
      "5, 8\n",
      "5, 9\n",
      "5, 10\n"
     ]
    }
   ],
   "source": [
    "df = generate_faults(df)"
   ]
  },
  {
   "cell_type": "code",
   "execution_count": 40,
   "id": "a8290a9c",
   "metadata": {},
   "outputs": [
    {
     "data": {
      "text/plain": [
       "[<matplotlib.lines.Line2D at 0x12d4701f0>]"
      ]
     },
     "execution_count": 40,
     "metadata": {},
     "output_type": "execute_result"
    },
    {
     "data": {
      "image/png": "[encoded data removed]",
      "text/plain": [
       "<Figure size 1440x360 with 1 Axes>"
      ]
     },
     "metadata": {
      "needs_background": "light"
     },
     "output_type": "display_data"
    }
   ],
   "source": [
    "plt.figure(figsize=(20,5))\n",
    "plt.plot(df[(df.ProdLineID == 1) & (df.MachineID == 1)]['Timestamp'],\n",
    "         df[(df.ProdLineID == 1) & (df.MachineID == 1)]['Fault'])"
   ]
  },
  {
   "cell_type": "code",
   "execution_count": null,
   "id": "0bde3dfd",
   "metadata": {},
   "outputs": [],
   "source": []
  }
 ],
 "metadata": {
  "kernelspec": {
   "display_name": "Python 3 (ipykernel)",
   "language": "python",
   "name": "python3"
  },
  "language_info": {
   "codemirror_mode": {
    "name": "ipython",
    "version": 3
   },
   "file_extension": ".py",
   "mimetype": "text/x-python",
   "name": "python",
   "nbconvert_exporter": "python",
   "pygments_lexer": "ipython3",
   "version": "3.8.9"
  }
 },
 "nbformat": 4,
 "nbformat_minor": 5
}
