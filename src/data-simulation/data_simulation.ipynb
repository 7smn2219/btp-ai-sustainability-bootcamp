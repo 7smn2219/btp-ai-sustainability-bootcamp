{
 "cells": [
  {
   "cell_type": "code",
   "execution_count": 2,
   "id": "68651e31",
   "metadata": {},
   "outputs": [],
   "source": [
    "%matplotlib inline\n",
    "\n",
    "import pandas as pd\n",
    "import datetime\n",
    "import numpy as np\n",
    "from numpy import random\n",
    "import matplotlib.pyplot as plt\n",
    "import matplotlib.dates as mdates\n",
    "import math\n",
    "import statistics\n",
    "from scipy import signal\n",
    "import random\n",
    "import uuid\n",
    "import json"
   ]
  },
  {
   "cell_type": "code",
   "execution_count": 204,
   "id": "83e1676b",
   "metadata": {},
   "outputs": [],
   "source": [
    "#Model parameters\n",
    "num_machines = 10\n",
    "num_prod_lines = 5\n",
    "cyclical_maintenance = 30 #number of days\n",
    "\n",
    "fault_prob = [0.001, 0.003, 0.005]\n",
    "\n",
    "#To be decided if the numbers are per day or per hour\n",
    "scenarios = {\n",
    "    \"normal\":\n",
    "    {\n",
    "        \"avg_yield\": 1500,\n",
    "        \"std_yield\": 5,\n",
    "        \"avg_perc_defects\": 0.01,\n",
    "        \"std_perc_defects\": 0.001,\n",
    "        \"avg_energy_cons\": 10000,\n",
    "        \"std_energy_cons\": 200\n",
    "    },\n",
    "    \"abnormal\": \n",
    "    {\n",
    "        \"avg_yield\": 1500,\n",
    "        \"std_yield\": 10,\n",
    "        \"avg_perc_defects\": 0.03,\n",
    "        \"std_perc_defects\": 0.003,\n",
    "        \"avg_energy_cons\": 20000,\n",
    "        \"std_energy_cons\": 500,\n",
    "    },\n",
    "    \"highly_abnormal\": \n",
    "    {\n",
    "        \"avg_yield\": 1500,\n",
    "        \"std_yield\": 20,\n",
    "        \"avg_perc_defects\": 0.05,\n",
    "        \"std_perc_defects\": 0.005,\n",
    "        \"avg_energy_cons\": 30000,\n",
    "        \"std_energy_cons\": 500,\n",
    "    },\n",
    "    \"breakdown\": \n",
    "    {\n",
    "        \"avg_yield\": 0,\n",
    "        \"std_yield\": 0,\n",
    "        \"avg_perc_defects\": 0,\n",
    "        \"std_perc_defects\": 0,\n",
    "        \"avg_energy_cons\": 0,\n",
    "        \"std_energy_cons\": 0,\n",
    "    }\n",
    "}"
   ]
  },
  {
   "cell_type": "code",
   "execution_count": 4,
   "id": "744c791b",
   "metadata": {},
   "outputs": [],
   "source": [
    "def gaussian_distr(mean, std, size):\n",
    "    return np.random.normal(loc=mean, scale=std, size=size)\n",
    "\n",
    "def possoin_distr(prob, size):\n",
    "    return np.random.poisson(lam=prob, size=size)\n",
    "\n",
    "a = gaussian_distr(scenarios[\"normal\"][\"avg_yield\"], scenarios[\"normal\"][\"std_yield\"], 10000)\n",
    "b = gaussian_distr(scenarios[\"normal\"][\"avg_perc_defects\"], scenarios[\"normal\"][\"std_perc_defects\"], 10000)\n",
    "#print(a)"
   ]
  },
  {
   "cell_type": "code",
   "execution_count": 5,
   "id": "78cc40e5",
   "metadata": {},
   "outputs": [],
   "source": [
    "def plot_hist(data, step, title):\n",
    "    fig, ax = plt.subplots()\n",
    "    #plt.xlabel(\"a\")\n",
    "    #plt.ylabel(r\"b\")\n",
    "    ax.grid()\n",
    "    plt.hist(data, bins=np.arange(data.min(), data.max(), step))\n",
    "    plt.title(title)\n",
    "    plt.show();"
   ]
  },
  {
   "cell_type": "code",
   "execution_count": 6,
   "id": "a4e8810b",
   "metadata": {},
   "outputs": [
    {
     "data": {
      "image/png": "[encoded data removed]",
      "text/plain": [
       "<Figure size 432x288 with 1 Axes>"
      ]
     },
     "metadata": {
      "needs_background": "light"
     },
     "output_type": "display_data"
    },
    {
     "data": {
      "image/png": "[encoded data removed]",
      "text/plain": [
       "<Figure size 432x288 with 1 Axes>"
      ]
     },
     "metadata": {
      "needs_background": "light"
     },
     "output_type": "display_data"
    }
   ],
   "source": [
    "plot_hist(a, 1, \"Yield\")\n",
    "plot_hist(b, 0.0005, \"Percentage of defected items\")"
   ]
  },
  {
   "cell_type": "code",
   "execution_count": 7,
   "id": "b55e1def",
   "metadata": {},
   "outputs": [
    {
     "data": {
      "image/png": "[encoded data removed]",
      "text/plain": [
       "<Figure size 432x288 with 1 Axes>"
      ]
     },
     "metadata": {
      "needs_background": "light"
     },
     "output_type": "display_data"
    }
   ],
   "source": [
    "#plt.hist(a, bins=np.arange(a.min(), a.max()+1, 1))\n",
    "plt.hist(b, bins=np.arange(b.min(), b.max(), 0.001))\n",
    "plt.show()"
   ]
  },
  {
   "cell_type": "code",
   "execution_count": 154,
   "id": "684a2d15",
   "metadata": {},
   "outputs": [],
   "source": [
    "def generateTimeSeries(months):\n",
    "    \n",
    "    date_rng = pd.date_range(start=datetime.date.today() - datetime.timedelta(months*365/12), \n",
    "                             end=datetime.date.today(), freq='H')\n",
    "    df = pd.DataFrame(date_rng, columns=['Timestamp'])\n",
    "\n",
    "    df1 = pd.DataFrame(range(1, num_machines+1), columns=['MachineID'])\n",
    "    df2 = pd.DataFrame(range(1, num_prod_lines+1), columns=['ProdLineID'])\n",
    "\n",
    "    df_tot = df2.merge(df1, how='cross')\n",
    "    df_tot['FaultProb'] = random.choices(fault_prob, k = len(df_tot))\n",
    "    df_tot = df.merge(df_tot, how='cross')\n",
    "    \n",
    "    df_tot['EnergyCons'] = gaussian_distr(scenarios[\"normal\"][\"avg_energy_cons\"], \n",
    "                                          scenarios[\"normal\"][\"std_energy_cons\"], len(df_tot))\n",
    "    \n",
    "    df_tot['Yield'] = gaussian_distr(scenarios[\"normal\"][\"avg_yield\"], \n",
    "                                          scenarios[\"normal\"][\"std_yield\"], len(df_tot))\n",
    "    \n",
    "    df_tot['DefectedItems'] = df_tot['Yield']*gaussian_distr(scenarios[\"normal\"][\"avg_perc_defects\"], \n",
    "                                          scenarios[\"normal\"][\"std_perc_defects\"], len(df_tot))\n",
    "    \n",
    "    \n",
    "    return df_tot"
   ]
  },
  {
   "cell_type": "code",
   "execution_count": 221,
   "id": "d46bccd2",
   "metadata": {},
   "outputs": [],
   "source": [
    "df = generateTimeSeries(1)"
   ]
  },
  {
   "cell_type": "code",
   "execution_count": 222,
   "id": "79b6b137",
   "metadata": {},
   "outputs": [],
   "source": [
    "df['CycMaintenance'] = 0\n",
    "df.loc[df.index%30 == 0, 'CycMaintenance'] = 1\n",
    "df['Fault'] = 0\n",
    "#print(df['CycMaintenance'][df.index%30 == 0])"
   ]
  },
  {
   "cell_type": "code",
   "execution_count": 223,
   "id": "becb1107",
   "metadata": {},
   "outputs": [],
   "source": [
    "#print(df['ProdLineID'].unique())\n",
    "\n",
    "for i in df['ProdLineID'].unique():\n",
    "    #print(i)\n",
    "    for j in df['MachineID'].unique():\n",
    "        #print(str(i)+\", \"+str(j))\n",
    "        #print(df[(df.ProdLineID == i) & (df.MachineID == j)]['FaultProb'].unique())\n",
    "        temp = (df[(df.ProdLineID == i) & (df.MachineID == j)]).copy()\n",
    "        temp = temp[['FaultProb','Fault']]\n",
    "        #print(len(temp))\n",
    "        temp['Fault'] = possoin_distr(temp['FaultProb'].unique(), len(temp))\n",
    "        df.loc[temp.index , 'Fault'] = temp['Fault']\n",
    "\n",
    "#print(df)"
   ]
  },
  {
   "cell_type": "code",
   "execution_count": 224,
   "id": "b8da1461",
   "metadata": {},
   "outputs": [],
   "source": [
    "#print(list(scenarios.keys())[1:])\n",
    "#print(random.choices(list(scenarios.keys())[1:], k = len(df[df.Fault == 1])))\n",
    "df['FaultType'] = 'normal'\n",
    "df.loc[df.Fault == 1, 'FaultType'] = random.choices(list(scenarios.keys())[1:], k = len(df[df.Fault == 1]))"
   ]
  },
  {
   "cell_type": "code",
   "execution_count": 225,
   "id": "dbf9ccb4",
   "metadata": {},
   "outputs": [
    {
     "name": "stdout",
     "output_type": "stream",
     "text": [
      "                Timestamp  ProdLineID  MachineID  FaultProb    EnergyCons  \\\n",
      "486   2022-01-29 09:00:00           4          7      0.005   9511.099214   \n",
      "596   2022-01-29 11:00:00           5          7      0.003   9707.608191   \n",
      "1512  2022-01-30 06:00:00           2          3      0.005  10204.214861   \n",
      "2335  2022-01-30 22:00:00           4          6      0.003   9914.701240   \n",
      "2890  2022-01-31 09:00:00           5          1      0.001   9989.497218   \n",
      "...                   ...         ...        ...        ...           ...   \n",
      "34854 2022-02-27 01:00:00           1          5      0.005  10207.583316   \n",
      "34987 2022-02-27 03:00:00           4          8      0.005  10041.931832   \n",
      "35189 2022-02-27 07:00:00           4         10      0.003  10203.156392   \n",
      "35786 2022-02-27 19:00:00           4          7      0.005   9967.556309   \n",
      "35980 2022-02-27 23:00:00           4          1      0.005   9603.653710   \n",
      "\n",
      "             Yield  DefectedItems  CycMaintenance  Fault        FaultType  \n",
      "486    1499.318083      17.765540               0      1        breakdown  \n",
      "596    1506.460289      13.961878               0      1        breakdown  \n",
      "1512   1502.497340      14.851949               0      1        breakdown  \n",
      "2335   1501.115119      15.354034               0      1  highly_abnormal  \n",
      "2890   1497.128774      14.251696               0      1         abnormal  \n",
      "...            ...            ...             ...    ...              ...  \n",
      "34854  1497.170328      13.539113               0      1  highly_abnormal  \n",
      "34987  1498.640308      14.619156               0      1        breakdown  \n",
      "35189  1508.654660      14.376898               0      1         abnormal  \n",
      "35786  1508.699386      13.924199               0      1  highly_abnormal  \n",
      "35980  1502.266849      16.184323               0      1        breakdown  \n",
      "\n",
      "[113 rows x 10 columns]\n",
      "['normal' 'breakdown' 'highly_abnormal' 'abnormal']\n"
     ]
    }
   ],
   "source": [
    "print(df[df.Fault == 1])\n",
    "print(df.FaultType.unique())"
   ]
  },
  {
   "cell_type": "code",
   "execution_count": null,
   "id": "480bc5c4",
   "metadata": {},
   "outputs": [],
   "source": []
  }
 ],
 "metadata": {
  "kernelspec": {
   "display_name": "Python 3 (ipykernel)",
   "language": "python",
   "name": "python3"
  },
  "language_info": {
   "codemirror_mode": {
    "name": "ipython",
    "version": 3
   },
   "file_extension": ".py",
   "mimetype": "text/x-python",
   "name": "python",
   "nbconvert_exporter": "python",
   "pygments_lexer": "ipython3",
   "version": "3.8.9"
  }
 },
 "nbformat": 4,
 "nbformat_minor": 5
}
